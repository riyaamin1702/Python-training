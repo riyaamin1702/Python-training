{
 "cells": [
  {
   "cell_type": "markdown",
   "id": "b20470a4",
   "metadata": {
    "papermill": {
     "duration": 0.01155,
     "end_time": "2022-06-27T01:25:26.922202",
     "exception": false,
     "start_time": "2022-06-27T01:25:26.910652",
     "status": "completed"
    },
    "tags": []
   },
   "source": [
    "**This notebook is an exercise in the [Python](https://www.kaggle.com/learn/python) course.  You can reference the tutorial at [this link](https://www.kaggle.com/colinmorris/booleans-and-conditionals).**\n",
    "\n",
    "---\n"
   ]
  },
  {
   "cell_type": "markdown",
   "id": "22c58429",
   "metadata": {
    "papermill": {
     "duration": 0.009974,
     "end_time": "2022-06-27T01:25:26.942765",
     "exception": false,
     "start_time": "2022-06-27T01:25:26.932791",
     "status": "completed"
    },
    "tags": []
   },
   "source": [
    "In this exercise, you'll put to work what you have learned about booleans and conditionals.\n",
    "\n",
    "To get started, **run the setup code below** before writing your own code (and if you leave this notebook and come back later, don't forget to run the setup code again)."
   ]
  },
  {
   "cell_type": "code",
   "execution_count": 1,
   "id": "b25330d3",
   "metadata": {
    "execution": {
     "iopub.execute_input": "2022-06-27T01:25:26.965935Z",
     "iopub.status.busy": "2022-06-27T01:25:26.965490Z",
     "iopub.status.idle": "2022-06-27T01:25:27.028084Z",
     "shell.execute_reply": "2022-06-27T01:25:27.026964Z"
    },
    "papermill": {
     "duration": 0.077596,
     "end_time": "2022-06-27T01:25:27.030914",
     "exception": false,
     "start_time": "2022-06-27T01:25:26.953318",
     "status": "completed"
    },
    "tags": []
   },
   "outputs": [
    {
     "name": "stdout",
     "output_type": "stream",
     "text": [
      "Setup complete.\n"
     ]
    }
   ],
   "source": [
    "from learntools.core import binder; binder.bind(globals())\n",
    "from learntools.python.ex3 import *\n",
    "print('Setup complete.')"
   ]
  },
  {
   "cell_type": "markdown",
   "id": "1b44548d",
   "metadata": {
    "papermill": {
     "duration": 0.010043,
     "end_time": "2022-06-27T01:25:27.051462",
     "exception": false,
     "start_time": "2022-06-27T01:25:27.041419",
     "status": "completed"
    },
    "tags": []
   },
   "source": [
    "# 1.\n",
    "\n",
    "Many programming languages have [`sign`](https://en.wikipedia.org/wiki/Sign_function) available as a built-in function. Python doesn't, but we can define our own!\n",
    "\n",
    "In the cell below, define a function called `sign` which takes a numerical argument and returns -1 if it's negative, 1 if it's positive, and 0 if it's 0."
   ]
  },
  {
   "cell_type": "code",
   "execution_count": 2,
   "id": "ab105caf",
   "metadata": {
    "execution": {
     "iopub.execute_input": "2022-06-27T01:25:27.074375Z",
     "iopub.status.busy": "2022-06-27T01:25:27.073571Z",
     "iopub.status.idle": "2022-06-27T01:25:27.086240Z",
     "shell.execute_reply": "2022-06-27T01:25:27.085083Z"
    },
    "papermill": {
     "duration": 0.026507,
     "end_time": "2022-06-27T01:25:27.088390",
     "exception": false,
     "start_time": "2022-06-27T01:25:27.061883",
     "status": "completed"
    },
    "tags": []
   },
   "outputs": [
    {
     "data": {
      "application/javascript": [
       "parent.postMessage({\"jupyterEvent\": \"custom.exercise_interaction\", \"data\": {\"outcomeType\": 1, \"valueTowardsCompletion\": 0.2, \"interactionType\": 1, \"questionType\": 2, \"questionId\": \"1_SignFunctionProblem\", \"learnToolsVersion\": \"0.3.4\", \"failureMessage\": \"\", \"exceptionClass\": \"\", \"trace\": \"\"}}, \"*\")"
      ],
      "text/plain": [
       "<IPython.core.display.Javascript object>"
      ]
     },
     "metadata": {},
     "output_type": "display_data"
    },
    {
     "data": {
      "text/markdown": [
       "<span style=\"color:#33cc33\">Correct</span>"
      ],
      "text/plain": [
       "Correct"
      ]
     },
     "metadata": {},
     "output_type": "display_data"
    }
   ],
   "source": [
    "# Your code goes here. Define a function called 'sign'\n",
    "def sign(x):\n",
    "    if x < 0:\n",
    "        return -1\n",
    "    elif x > 0:\n",
    "        return 1\n",
    "    else:\n",
    "        return 0\n",
    "# Check your answer\n",
    "q1.check()"
   ]
  },
  {
   "cell_type": "code",
   "execution_count": 3,
   "id": "0f9126eb",
   "metadata": {
    "execution": {
     "iopub.execute_input": "2022-06-27T01:25:27.112488Z",
     "iopub.status.busy": "2022-06-27T01:25:27.111823Z",
     "iopub.status.idle": "2022-06-27T01:25:27.116607Z",
     "shell.execute_reply": "2022-06-27T01:25:27.115768Z"
    },
    "papermill": {
     "duration": 0.019666,
     "end_time": "2022-06-27T01:25:27.118718",
     "exception": false,
     "start_time": "2022-06-27T01:25:27.099052",
     "status": "completed"
    },
    "tags": []
   },
   "outputs": [],
   "source": [
    "#q1.solution()"
   ]
  },
  {
   "cell_type": "markdown",
   "id": "36ae6635",
   "metadata": {
    "papermill": {
     "duration": 0.010512,
     "end_time": "2022-06-27T01:25:27.140149",
     "exception": false,
     "start_time": "2022-06-27T01:25:27.129637",
     "status": "completed"
    },
    "tags": []
   },
   "source": [
    "# 2.\n",
    "\n",
    "We've decided to add \"logging\" to our `to_smash` function from the previous exercise."
   ]
  },
  {
   "cell_type": "code",
   "execution_count": 4,
   "id": "9360a9b5",
   "metadata": {
    "execution": {
     "iopub.execute_input": "2022-06-27T01:25:27.164437Z",
     "iopub.status.busy": "2022-06-27T01:25:27.163773Z",
     "iopub.status.idle": "2022-06-27T01:25:27.172985Z",
     "shell.execute_reply": "2022-06-27T01:25:27.171844Z"
    },
    "papermill": {
     "duration": 0.023881,
     "end_time": "2022-06-27T01:25:27.175471",
     "exception": false,
     "start_time": "2022-06-27T01:25:27.151590",
     "status": "completed"
    },
    "tags": []
   },
   "outputs": [
    {
     "name": "stdout",
     "output_type": "stream",
     "text": [
      "Splitting 91 candies\n"
     ]
    },
    {
     "data": {
      "text/plain": [
       "1"
      ]
     },
     "execution_count": 4,
     "metadata": {},
     "output_type": "execute_result"
    }
   ],
   "source": [
    "def to_smash(total_candies):\n",
    "    \"\"\"Return the number of leftover candies that must be smashed after distributing\n",
    "    the given number of candies evenly between 3 friends.\n",
    "    \n",
    "    >>> to_smash(91)\n",
    "    1\n",
    "    \"\"\"\n",
    "    print(\"Splitting\", total_candies, \"candies\")\n",
    "    return total_candies % 3\n",
    "\n",
    "to_smash(91)"
   ]
  },
  {
   "cell_type": "markdown",
   "id": "b426f570",
   "metadata": {
    "papermill": {
     "duration": 0.01059,
     "end_time": "2022-06-27T01:25:27.196859",
     "exception": false,
     "start_time": "2022-06-27T01:25:27.186269",
     "status": "completed"
    },
    "tags": []
   },
   "source": [
    "What happens if we call it with `total_candies = 1`?"
   ]
  },
  {
   "cell_type": "code",
   "execution_count": 5,
   "id": "72ad78d8",
   "metadata": {
    "execution": {
     "iopub.execute_input": "2022-06-27T01:25:27.221139Z",
     "iopub.status.busy": "2022-06-27T01:25:27.220468Z",
     "iopub.status.idle": "2022-06-27T01:25:27.228671Z",
     "shell.execute_reply": "2022-06-27T01:25:27.227384Z"
    },
    "papermill": {
     "duration": 0.02301,
     "end_time": "2022-06-27T01:25:27.231013",
     "exception": false,
     "start_time": "2022-06-27T01:25:27.208003",
     "status": "completed"
    },
    "tags": []
   },
   "outputs": [
    {
     "name": "stdout",
     "output_type": "stream",
     "text": [
      "Splitting 1 candies\n"
     ]
    },
    {
     "data": {
      "text/plain": [
       "1"
      ]
     },
     "execution_count": 5,
     "metadata": {},
     "output_type": "execute_result"
    }
   ],
   "source": [
    "to_smash(1)"
   ]
  },
  {
   "cell_type": "markdown",
   "id": "ceedd0b1",
   "metadata": {
    "papermill": {
     "duration": 0.01084,
     "end_time": "2022-06-27T01:25:27.253159",
     "exception": false,
     "start_time": "2022-06-27T01:25:27.242319",
     "status": "completed"
    },
    "tags": []
   },
   "source": [
    "That isn't great grammar!\n",
    "\n",
    "Modify the definition in the cell below to correct the grammar of our print statement. (If there's only one candy, we should use the singular \"candy\" instead of the plural \"candies\")"
   ]
  },
  {
   "cell_type": "code",
   "execution_count": 6,
   "id": "41457960",
   "metadata": {
    "execution": {
     "iopub.execute_input": "2022-06-27T01:25:27.277719Z",
     "iopub.status.busy": "2022-06-27T01:25:27.276888Z",
     "iopub.status.idle": "2022-06-27T01:25:27.284773Z",
     "shell.execute_reply": "2022-06-27T01:25:27.283359Z"
    },
    "papermill": {
     "duration": 0.023265,
     "end_time": "2022-06-27T01:25:27.287456",
     "exception": false,
     "start_time": "2022-06-27T01:25:27.264191",
     "status": "completed"
    },
    "tags": []
   },
   "outputs": [
    {
     "name": "stdout",
     "output_type": "stream",
     "text": [
      "Splitting 91 candies\n",
      "Splitting 1 candy\n"
     ]
    }
   ],
   "source": [
    "def to_smash(total_candies):\n",
    "    \"\"\"Return the number of leftover candies that must be smashed after distributing\n",
    "    the given number of candies evenly between 3 friends.\n",
    "    \n",
    "    >>> to_smash(91)\n",
    "    1\n",
    "    \"\"\"\n",
    "    if total_candies == 1:\n",
    "        print(\"Splitting 1 candy\")\n",
    "    else:\n",
    "        print(\"Splitting\", total_candies, \"candies\")\n",
    "        return total_candies % 3\n",
    "\n",
    "to_smash(91)\n",
    "to_smash(1)"
   ]
  },
  {
   "cell_type": "markdown",
   "id": "9df3fdf4",
   "metadata": {
    "papermill": {
     "duration": 0.012585,
     "end_time": "2022-06-27T01:25:27.311356",
     "exception": false,
     "start_time": "2022-06-27T01:25:27.298771",
     "status": "completed"
    },
    "tags": []
   },
   "source": [
    "To get credit for completing this problem, and to see the official answer, run the code cell below."
   ]
  },
  {
   "cell_type": "code",
   "execution_count": 7,
   "id": "30413887",
   "metadata": {
    "execution": {
     "iopub.execute_input": "2022-06-27T01:25:27.338325Z",
     "iopub.status.busy": "2022-06-27T01:25:27.337624Z",
     "iopub.status.idle": "2022-06-27T01:25:27.346995Z",
     "shell.execute_reply": "2022-06-27T01:25:27.345704Z"
    },
    "papermill": {
     "duration": 0.024747,
     "end_time": "2022-06-27T01:25:27.349458",
     "exception": false,
     "start_time": "2022-06-27T01:25:27.324711",
     "status": "completed"
    },
    "tags": []
   },
   "outputs": [
    {
     "data": {
      "application/javascript": [
       "parent.postMessage({\"jupyterEvent\": \"custom.exercise_interaction\", \"data\": {\"interactionType\": 3, \"questionType\": 4, \"questionId\": \"2_PluralizationProblem\", \"learnToolsVersion\": \"0.3.4\", \"valueTowardsCompletion\": 0.0, \"failureMessage\": \"\", \"exceptionClass\": \"\", \"trace\": \"\", \"outcomeType\": 4}}, \"*\")"
      ],
      "text/plain": [
       "<IPython.core.display.Javascript object>"
      ]
     },
     "metadata": {},
     "output_type": "display_data"
    },
    {
     "data": {
      "text/markdown": [
       "<span style=\"color:#33cc99\">Solution:</span> A straightforward (and totally fine) solution is to replace the original `print` call with:\n",
       "\n",
       "```python\n",
       "if total_candies == 1:\n",
       "    print(\"Splitting 1 candy\")\n",
       "else:\n",
       "    print(\"Splitting\", total_candies, \"candies\")\n",
       "```\n",
       "\n",
       "Here's a slightly more succinct solution using a conditional expression:\n",
       "\n",
       "```python\n",
       "print(\"Splitting\", total_candies, \"candy\" if total_candies == 1 else \"candies\")\n",
       "```"
      ],
      "text/plain": [
       "Solution: A straightforward (and totally fine) solution is to replace the original `print` call with:\n",
       "\n",
       "```python\n",
       "if total_candies == 1:\n",
       "    print(\"Splitting 1 candy\")\n",
       "else:\n",
       "    print(\"Splitting\", total_candies, \"candies\")\n",
       "```\n",
       "\n",
       "Here's a slightly more succinct solution using a conditional expression:\n",
       "\n",
       "```python\n",
       "print(\"Splitting\", total_candies, \"candy\" if total_candies == 1 else \"candies\")\n",
       "```"
      ]
     },
     "metadata": {},
     "output_type": "display_data"
    }
   ],
   "source": [
    "# Check your answer (Run this code cell to receive credit!)\n",
    "q2.solution()"
   ]
  },
  {
   "cell_type": "markdown",
   "id": "3cc96d45",
   "metadata": {
    "papermill": {
     "duration": 0.011571,
     "end_time": "2022-06-27T01:25:27.372506",
     "exception": false,
     "start_time": "2022-06-27T01:25:27.360935",
     "status": "completed"
    },
    "tags": []
   },
   "source": [
    "# 3. <span title=\"A bit spicy\" style=\"color: darkgreen \">🌶️</span>\n",
    "\n",
    "In the tutorial, we talked about deciding whether we're prepared for the weather. I said that I'm safe from today's weather if...\n",
    "- I have an umbrella...\n",
    "- or if the rain isn't too heavy and I have a hood...\n",
    "- otherwise, I'm still fine unless it's raining *and* it's a workday\n",
    "\n",
    "The function below uses our first attempt at turning this logic into a Python expression. I claimed that there was a bug in that code. Can you find it?\n",
    "\n",
    "To prove that `prepared_for_weather` is buggy, come up with a set of inputs where either:\n",
    "- the function returns `False` (but should have returned `True`), or\n",
    "- the function returned `True` (but should have returned `False`).\n",
    "\n",
    "To get credit for completing this question, your code should return a <font color='#33cc33'>Correct</font> result."
   ]
  },
  {
   "cell_type": "code",
   "execution_count": 8,
   "id": "a0c830c1",
   "metadata": {
    "execution": {
     "iopub.execute_input": "2022-06-27T01:25:27.397836Z",
     "iopub.status.busy": "2022-06-27T01:25:27.397471Z",
     "iopub.status.idle": "2022-06-27T01:25:27.410647Z",
     "shell.execute_reply": "2022-06-27T01:25:27.409339Z"
    },
    "papermill": {
     "duration": 0.02905,
     "end_time": "2022-06-27T01:25:27.413104",
     "exception": false,
     "start_time": "2022-06-27T01:25:27.384054",
     "status": "completed"
    },
    "tags": []
   },
   "outputs": [
    {
     "name": "stdout",
     "output_type": "stream",
     "text": [
      "False\n"
     ]
    },
    {
     "data": {
      "application/javascript": [
       "parent.postMessage({\"jupyterEvent\": \"custom.exercise_interaction\", \"data\": {\"outcomeType\": 1, \"valueTowardsCompletion\": 0.2, \"interactionType\": 1, \"questionType\": 1, \"questionId\": \"3_WeatherDebug\", \"learnToolsVersion\": \"0.3.4\", \"failureMessage\": \"\", \"exceptionClass\": \"\", \"trace\": \"\"}}, \"*\")"
      ],
      "text/plain": [
       "<IPython.core.display.Javascript object>"
      ]
     },
     "metadata": {},
     "output_type": "display_data"
    },
    {
     "data": {
      "text/markdown": [
       "<span style=\"color:#33cc33\">Correct:</span> \n",
       "\n",
       "One example of a failing test case is:\n",
       "\n",
       "```python\n",
       "have_umbrella = False\n",
       "rain_level = 0.0\n",
       "have_hood = False\n",
       "is_workday = False\n",
       "```\n",
       "\n",
       "Clearly we're prepared for the weather in this case. It's not raining. Not only that, it's not a workday, so we don't even need to leave the house! But our function will return False on these inputs.\n",
       "\n",
       "The key problem is that Python implictly parenthesizes the last part as:\n",
       "\n",
       "```python\n",
       "(not (rain_level > 0)) and is_workday\n",
       "```\n",
       "\n",
       "Whereas what we were trying to express would look more like:\n",
       "\n",
       "```python\n",
       "not (rain_level > 0 and is_workday)\n",
       "```\n"
      ],
      "text/plain": [
       "Correct: \n",
       "\n",
       "One example of a failing test case is:\n",
       "\n",
       "```python\n",
       "have_umbrella = False\n",
       "rain_level = 0.0\n",
       "have_hood = False\n",
       "is_workday = False\n",
       "```\n",
       "\n",
       "Clearly we're prepared for the weather in this case. It's not raining. Not only that, it's not a workday, so we don't even need to leave the house! But our function will return False on these inputs.\n",
       "\n",
       "The key problem is that Python implictly parenthesizes the last part as:\n",
       "\n",
       "```python\n",
       "(not (rain_level > 0)) and is_workday\n",
       "```\n",
       "\n",
       "Whereas what we were trying to express would look more like:\n",
       "\n",
       "```python\n",
       "not (rain_level > 0 and is_workday)\n",
       "```"
      ]
     },
     "metadata": {},
     "output_type": "display_data"
    }
   ],
   "source": [
    "def prepared_for_weather(have_umbrella, rain_level, have_hood, is_workday):\n",
    "    # Don't change this code. Our goal is just to find the bug, not fix it!\n",
    "    return have_umbrella or rain_level < 5 and have_hood or not rain_level > 0 and is_workday\n",
    "\n",
    "# Change the values of these inputs so they represent a case where prepared_for_weather\n",
    "# returns the wrong answer.\n",
    "have_umbrella = False\n",
    "rain_level = 0.0\n",
    "have_hood = False\n",
    "is_workday = False\n",
    "\n",
    "# Check what the function returns given the current values of the variables above\n",
    "actual = prepared_for_weather(have_umbrella, rain_level, have_hood, is_workday)\n",
    "print(actual)\n",
    "\n",
    "# Check your answer\n",
    "q3.check()"
   ]
  },
  {
   "cell_type": "code",
   "execution_count": 9,
   "id": "2485f93a",
   "metadata": {
    "execution": {
     "iopub.execute_input": "2022-06-27T01:25:27.440402Z",
     "iopub.status.busy": "2022-06-27T01:25:27.439977Z",
     "iopub.status.idle": "2022-06-27T01:25:27.444340Z",
     "shell.execute_reply": "2022-06-27T01:25:27.443342Z"
    },
    "papermill": {
     "duration": 0.020448,
     "end_time": "2022-06-27T01:25:27.446411",
     "exception": false,
     "start_time": "2022-06-27T01:25:27.425963",
     "status": "completed"
    },
    "tags": []
   },
   "outputs": [],
   "source": [
    "#q3.hint()\n",
    "#q3.solution()"
   ]
  },
  {
   "cell_type": "markdown",
   "id": "a48308d1",
   "metadata": {
    "papermill": {
     "duration": 0.011917,
     "end_time": "2022-06-27T01:25:27.470895",
     "exception": false,
     "start_time": "2022-06-27T01:25:27.458978",
     "status": "completed"
    },
    "tags": []
   },
   "source": [
    "# 4.\n",
    "\n",
    "The function `is_negative` below is implemented correctly - it returns True if the given number is negative and False otherwise.\n",
    "\n",
    "However, it's more verbose than it needs to be. We can actually reduce the number of lines of code in this function by *75%* while keeping the same behaviour. \n",
    "\n",
    "See if you can come up with an equivalent body that uses just **one line** of code, and put it in the function `concise_is_negative`. (HINT: you don't even need Python's ternary syntax)"
   ]
  },
  {
   "cell_type": "code",
   "execution_count": 10,
   "id": "42a670e9",
   "metadata": {
    "execution": {
     "iopub.execute_input": "2022-06-27T01:25:27.497474Z",
     "iopub.status.busy": "2022-06-27T01:25:27.496249Z",
     "iopub.status.idle": "2022-06-27T01:25:27.507796Z",
     "shell.execute_reply": "2022-06-27T01:25:27.506587Z"
    },
    "papermill": {
     "duration": 0.026939,
     "end_time": "2022-06-27T01:25:27.510059",
     "exception": false,
     "start_time": "2022-06-27T01:25:27.483120",
     "status": "completed"
    },
    "tags": []
   },
   "outputs": [
    {
     "data": {
      "application/javascript": [
       "parent.postMessage({\"jupyterEvent\": \"custom.exercise_interaction\", \"data\": {\"outcomeType\": 1, \"valueTowardsCompletion\": 0.2, \"interactionType\": 1, \"questionType\": 2, \"questionId\": \"4_ConciseIsNegative\", \"learnToolsVersion\": \"0.3.4\", \"failureMessage\": \"\", \"exceptionClass\": \"\", \"trace\": \"\"}}, \"*\")"
      ],
      "text/plain": [
       "<IPython.core.display.Javascript object>"
      ]
     },
     "metadata": {},
     "output_type": "display_data"
    },
    {
     "data": {
      "text/markdown": [
       "<span style=\"color:#33cc33\">Correct</span>"
      ],
      "text/plain": [
       "Correct"
      ]
     },
     "metadata": {},
     "output_type": "display_data"
    }
   ],
   "source": [
    "def is_negative(number):\n",
    "    if number < 0:\n",
    "        return True\n",
    "    else:\n",
    "        return False\n",
    "\n",
    "def concise_is_negative(number):\n",
    "    return number < 0 # Your code goes here (try to keep it to one line!)\n",
    "\n",
    "# Check your answer\n",
    "q4.check()"
   ]
  },
  {
   "cell_type": "code",
   "execution_count": 11,
   "id": "1dc26eaf",
   "metadata": {
    "execution": {
     "iopub.execute_input": "2022-06-27T01:25:27.537633Z",
     "iopub.status.busy": "2022-06-27T01:25:27.536884Z",
     "iopub.status.idle": "2022-06-27T01:25:27.545803Z",
     "shell.execute_reply": "2022-06-27T01:25:27.544733Z"
    },
    "papermill": {
     "duration": 0.02528,
     "end_time": "2022-06-27T01:25:27.548137",
     "exception": false,
     "start_time": "2022-06-27T01:25:27.522857",
     "status": "completed"
    },
    "tags": []
   },
   "outputs": [
    {
     "data": {
      "application/javascript": [
       "parent.postMessage({\"jupyterEvent\": \"custom.exercise_interaction\", \"data\": {\"interactionType\": 3, \"questionType\": 2, \"questionId\": \"4_ConciseIsNegative\", \"learnToolsVersion\": \"0.3.4\", \"valueTowardsCompletion\": 0.0, \"failureMessage\": \"\", \"exceptionClass\": \"\", \"trace\": \"\", \"outcomeType\": 4}}, \"*\")"
      ],
      "text/plain": [
       "<IPython.core.display.Javascript object>"
      ]
     },
     "metadata": {},
     "output_type": "display_data"
    },
    {
     "data": {
      "text/markdown": [
       "<span style=\"color:#33cc99\">Solution:</span> \n",
       "```python\n",
       "return number < 0\n",
       "```"
      ],
      "text/plain": [
       "Solution: \n",
       "```python\n",
       "return number < 0\n",
       "```"
      ]
     },
     "metadata": {},
     "output_type": "display_data"
    }
   ],
   "source": [
    "#q4.hint()\n",
    "q4.solution()"
   ]
  },
  {
   "cell_type": "markdown",
   "id": "a5bb7318",
   "metadata": {
    "papermill": {
     "duration": 0.01184,
     "end_time": "2022-06-27T01:25:27.572627",
     "exception": false,
     "start_time": "2022-06-27T01:25:27.560787",
     "status": "completed"
    },
    "tags": []
   },
   "source": [
    "# 5a.\n",
    "\n",
    "The boolean variables `ketchup`, `mustard` and `onion` represent whether a customer wants a particular topping on their hot dog. We want to implement a number of boolean functions that correspond to some yes-or-no questions about the customer's order. For example:"
   ]
  },
  {
   "cell_type": "code",
   "execution_count": 12,
   "id": "849c9c66",
   "metadata": {
    "execution": {
     "iopub.execute_input": "2022-06-27T01:25:27.599329Z",
     "iopub.status.busy": "2022-06-27T01:25:27.598796Z",
     "iopub.status.idle": "2022-06-27T01:25:27.603828Z",
     "shell.execute_reply": "2022-06-27T01:25:27.602919Z"
    },
    "papermill": {
     "duration": 0.020933,
     "end_time": "2022-06-27T01:25:27.605835",
     "exception": false,
     "start_time": "2022-06-27T01:25:27.584902",
     "status": "completed"
    },
    "tags": []
   },
   "outputs": [],
   "source": [
    "def onionless(ketchup, mustard, onion):\n",
    "    \"\"\"Return whether the customer doesn't want onions.\n",
    "    \"\"\"\n",
    "    return not onion"
   ]
  },
  {
   "cell_type": "code",
   "execution_count": 13,
   "id": "ac8d1daf",
   "metadata": {
    "execution": {
     "iopub.execute_input": "2022-06-27T01:25:27.633325Z",
     "iopub.status.busy": "2022-06-27T01:25:27.632594Z",
     "iopub.status.idle": "2022-06-27T01:25:27.641821Z",
     "shell.execute_reply": "2022-06-27T01:25:27.640646Z"
    },
    "papermill": {
     "duration": 0.025853,
     "end_time": "2022-06-27T01:25:27.644240",
     "exception": false,
     "start_time": "2022-06-27T01:25:27.618387",
     "status": "completed"
    },
    "tags": []
   },
   "outputs": [
    {
     "data": {
      "application/javascript": [
       "parent.postMessage({\"jupyterEvent\": \"custom.exercise_interaction\", \"data\": {\"outcomeType\": 1, \"valueTowardsCompletion\": 0.2, \"interactionType\": 1, \"questionType\": 2, \"questionId\": \"5.1_AllToppings\", \"learnToolsVersion\": \"0.3.4\", \"failureMessage\": \"\", \"exceptionClass\": \"\", \"trace\": \"\"}}, \"*\")"
      ],
      "text/plain": [
       "<IPython.core.display.Javascript object>"
      ]
     },
     "metadata": {},
     "output_type": "display_data"
    },
    {
     "data": {
      "text/markdown": [
       "<span style=\"color:#33cc33\">Correct</span>"
      ],
      "text/plain": [
       "Correct"
      ]
     },
     "metadata": {},
     "output_type": "display_data"
    }
   ],
   "source": [
    "def wants_all_toppings(ketchup, mustard, onion):\n",
    "    \"\"\"Return whether the customer wants \"the works\" (all 3 toppings)\n",
    "    \"\"\"\n",
    "    return ketchup and mustard and onion\n",
    "\n",
    "# Check your answer\n",
    "q5.a.check()"
   ]
  },
  {
   "cell_type": "code",
   "execution_count": 14,
   "id": "80dfe7cd",
   "metadata": {
    "execution": {
     "iopub.execute_input": "2022-06-27T01:25:27.671185Z",
     "iopub.status.busy": "2022-06-27T01:25:27.670590Z",
     "iopub.status.idle": "2022-06-27T01:25:27.675980Z",
     "shell.execute_reply": "2022-06-27T01:25:27.674695Z"
    },
    "papermill": {
     "duration": 0.021332,
     "end_time": "2022-06-27T01:25:27.678347",
     "exception": false,
     "start_time": "2022-06-27T01:25:27.657015",
     "status": "completed"
    },
    "tags": []
   },
   "outputs": [],
   "source": [
    "#q5.a.hint()\n",
    "#q5.a.solution()"
   ]
  },
  {
   "cell_type": "markdown",
   "id": "71549693",
   "metadata": {
    "papermill": {
     "duration": 0.012581,
     "end_time": "2022-06-27T01:25:27.704116",
     "exception": false,
     "start_time": "2022-06-27T01:25:27.691535",
     "status": "completed"
    },
    "tags": []
   },
   "source": [
    "# 5b.\n",
    "\n",
    "For the next function, fill in the body to match the English description in the docstring. "
   ]
  },
  {
   "cell_type": "code",
   "execution_count": 15,
   "id": "598d999f",
   "metadata": {
    "execution": {
     "iopub.execute_input": "2022-06-27T01:25:27.732285Z",
     "iopub.status.busy": "2022-06-27T01:25:27.731634Z",
     "iopub.status.idle": "2022-06-27T01:25:27.740264Z",
     "shell.execute_reply": "2022-06-27T01:25:27.739467Z"
    },
    "papermill": {
     "duration": 0.02485,
     "end_time": "2022-06-27T01:25:27.742287",
     "exception": false,
     "start_time": "2022-06-27T01:25:27.717437",
     "status": "completed"
    },
    "tags": []
   },
   "outputs": [
    {
     "data": {
      "application/javascript": [
       "parent.postMessage({\"jupyterEvent\": \"custom.exercise_interaction\", \"data\": {\"outcomeType\": 1, \"valueTowardsCompletion\": 0.2, \"interactionType\": 1, \"questionType\": 2, \"questionId\": \"5.2_PlainDog\", \"learnToolsVersion\": \"0.3.4\", \"failureMessage\": \"\", \"exceptionClass\": \"\", \"trace\": \"\"}}, \"*\")"
      ],
      "text/plain": [
       "<IPython.core.display.Javascript object>"
      ]
     },
     "metadata": {},
     "output_type": "display_data"
    },
    {
     "data": {
      "text/markdown": [
       "<span style=\"color:#33cc33\">Correct:</span> \n",
       "\n",
       "One solution looks like:\n",
       "```python\n",
       "return not ketchup and not mustard and not onion\n",
       "```\n",
       "\n",
       "We can also [\"factor out\" the nots](https://en.wikipedia.org/wiki/De_Morgan%27s_laws) to get:\n",
       "\n",
       "```python\n",
       "return not (ketchup or mustard or onion)\n",
       "```"
      ],
      "text/plain": [
       "Correct: \n",
       "\n",
       "One solution looks like:\n",
       "```python\n",
       "return not ketchup and not mustard and not onion\n",
       "```\n",
       "\n",
       "We can also [\"factor out\" the nots](https://en.wikipedia.org/wiki/De_Morgan%27s_laws) to get:\n",
       "\n",
       "```python\n",
       "return not (ketchup or mustard or onion)\n",
       "```"
      ]
     },
     "metadata": {},
     "output_type": "display_data"
    }
   ],
   "source": [
    "def wants_plain_hotdog(ketchup, mustard, onion):\n",
    "    \"\"\"Return whether the customer wants a plain hot dog with no toppings.\n",
    "    \"\"\"\n",
    "    return not ketchup and not mustard and not onion\n",
    "\n",
    "# Check your answer\n",
    "q5.b.check()"
   ]
  },
  {
   "cell_type": "code",
   "execution_count": 16,
   "id": "8a7dc25c",
   "metadata": {
    "execution": {
     "iopub.execute_input": "2022-06-27T01:25:27.770455Z",
     "iopub.status.busy": "2022-06-27T01:25:27.769613Z",
     "iopub.status.idle": "2022-06-27T01:25:27.773725Z",
     "shell.execute_reply": "2022-06-27T01:25:27.772875Z"
    },
    "papermill": {
     "duration": 0.020247,
     "end_time": "2022-06-27T01:25:27.775765",
     "exception": false,
     "start_time": "2022-06-27T01:25:27.755518",
     "status": "completed"
    },
    "tags": []
   },
   "outputs": [],
   "source": [
    "#q5.b.hint()\n",
    "#q5.b.solution()"
   ]
  },
  {
   "cell_type": "markdown",
   "id": "fcfba60e",
   "metadata": {
    "papermill": {
     "duration": 0.012928,
     "end_time": "2022-06-27T01:25:27.801501",
     "exception": false,
     "start_time": "2022-06-27T01:25:27.788573",
     "status": "completed"
    },
    "tags": []
   },
   "source": [
    "# 5c.\n",
    "\n",
    "You know what to do: for the next function, fill in the body to match the English description in the docstring."
   ]
  },
  {
   "cell_type": "code",
   "execution_count": 17,
   "id": "fce5c7c9",
   "metadata": {
    "execution": {
     "iopub.execute_input": "2022-06-27T01:25:27.830012Z",
     "iopub.status.busy": "2022-06-27T01:25:27.829124Z",
     "iopub.status.idle": "2022-06-27T01:25:27.837835Z",
     "shell.execute_reply": "2022-06-27T01:25:27.836971Z"
    },
    "papermill": {
     "duration": 0.025161,
     "end_time": "2022-06-27T01:25:27.839851",
     "exception": false,
     "start_time": "2022-06-27T01:25:27.814690",
     "status": "completed"
    },
    "tags": []
   },
   "outputs": [
    {
     "data": {
      "application/javascript": [
       "parent.postMessage({\"jupyterEvent\": \"custom.exercise_interaction\", \"data\": {\"outcomeType\": 1, \"valueTowardsCompletion\": 0.2, \"interactionType\": 1, \"questionType\": 2, \"questionId\": \"5.3_OneSauce\", \"learnToolsVersion\": \"0.3.4\", \"failureMessage\": \"\", \"exceptionClass\": \"\", \"trace\": \"\"}}, \"*\")"
      ],
      "text/plain": [
       "<IPython.core.display.Javascript object>"
      ]
     },
     "metadata": {},
     "output_type": "display_data"
    },
    {
     "data": {
      "text/markdown": [
       "<span style=\"color:#33cc33\">Correct</span>"
      ],
      "text/plain": [
       "Correct"
      ]
     },
     "metadata": {},
     "output_type": "display_data"
    }
   ],
   "source": [
    "def exactly_one_sauce(ketchup, mustard, onion):\n",
    "    \"\"\"Return whether the customer wants either ketchup or mustard, but not both.\n",
    "    (You may be familiar with this operation under the name \"exclusive or\")\n",
    "    \"\"\"\n",
    "    return not (ketchup and mustard) and onion\n",
    "\n",
    "# Check your answer\n",
    "q5.c.check()"
   ]
  },
  {
   "cell_type": "code",
   "execution_count": 18,
   "id": "7da9063a",
   "metadata": {
    "execution": {
     "iopub.execute_input": "2022-06-27T01:25:27.870599Z",
     "iopub.status.busy": "2022-06-27T01:25:27.869318Z",
     "iopub.status.idle": "2022-06-27T01:25:27.885740Z",
     "shell.execute_reply": "2022-06-27T01:25:27.884902Z"
    },
    "papermill": {
     "duration": 0.034772,
     "end_time": "2022-06-27T01:25:27.888743",
     "exception": false,
     "start_time": "2022-06-27T01:25:27.853971",
     "status": "completed"
    },
    "tags": []
   },
   "outputs": [
    {
     "data": {
      "application/javascript": [
       "parent.postMessage({\"jupyterEvent\": \"custom.exercise_interaction\", \"data\": {\"interactionType\": 2, \"questionType\": 2, \"questionId\": \"5.3_OneSauce\", \"learnToolsVersion\": \"0.3.4\", \"valueTowardsCompletion\": 0.0, \"failureMessage\": \"\", \"exceptionClass\": \"\", \"trace\": \"\", \"outcomeType\": 4}}, \"*\")"
      ],
      "text/plain": [
       "<IPython.core.display.Javascript object>"
      ]
     },
     "metadata": {},
     "output_type": "display_data"
    },
    {
     "data": {
      "text/markdown": [
       "<span style=\"color:#3366cc\">Hint:</span> There are exactly two ways to set ketchup and mustard to make this true. What are they?"
      ],
      "text/plain": [
       "Hint: There are exactly two ways to set ketchup and mustard to make this true. What are they?"
      ]
     },
     "metadata": {},
     "output_type": "display_data"
    },
    {
     "data": {
      "application/javascript": [
       "parent.postMessage({\"jupyterEvent\": \"custom.exercise_interaction\", \"data\": {\"interactionType\": 3, \"questionType\": 2, \"questionId\": \"5.3_OneSauce\", \"learnToolsVersion\": \"0.3.4\", \"valueTowardsCompletion\": 0.0, \"failureMessage\": \"\", \"exceptionClass\": \"\", \"trace\": \"\", \"outcomeType\": 4}}, \"*\")"
      ],
      "text/plain": [
       "<IPython.core.display.Javascript object>"
      ]
     },
     "metadata": {},
     "output_type": "display_data"
    },
    {
     "data": {
      "text/markdown": [
       "<span style=\"color:#33cc99\">Solution:</span> \n",
       "```python\n",
       "return (ketchup and not mustard) or (mustard and not ketchup)\n",
       "```"
      ],
      "text/plain": [
       "Solution: \n",
       "```python\n",
       "return (ketchup and not mustard) or (mustard and not ketchup)\n",
       "```"
      ]
     },
     "metadata": {},
     "output_type": "display_data"
    }
   ],
   "source": [
    "q5.c.hint()\n",
    "q5.c.solution()"
   ]
  },
  {
   "cell_type": "markdown",
   "id": "36218f57",
   "metadata": {
    "papermill": {
     "duration": 0.015027,
     "end_time": "2022-06-27T01:25:27.918660",
     "exception": false,
     "start_time": "2022-06-27T01:25:27.903633",
     "status": "completed"
    },
    "tags": []
   },
   "source": [
    "# 6. <span title=\"A bit spicy\" style=\"color: darkgreen \">🌶️</span>\n",
    "\n",
    "We’ve seen that calling `bool()` on an integer returns `False` if it’s equal to 0 and `True` otherwise. What happens if we call `int()` on a bool? Try it out in the notebook cell below.\n",
    "\n",
    "Can you take advantage of this to write a succinct function that corresponds to the English sentence \"does the customer want exactly one topping?\"?"
   ]
  },
  {
   "cell_type": "code",
   "execution_count": 19,
   "id": "9ade789b",
   "metadata": {
    "execution": {
     "iopub.execute_input": "2022-06-27T01:25:27.952508Z",
     "iopub.status.busy": "2022-06-27T01:25:27.951561Z",
     "iopub.status.idle": "2022-06-27T01:25:27.963845Z",
     "shell.execute_reply": "2022-06-27T01:25:27.962533Z"
    },
    "papermill": {
     "duration": 0.032296,
     "end_time": "2022-06-27T01:25:27.966490",
     "exception": false,
     "start_time": "2022-06-27T01:25:27.934194",
     "status": "completed"
    },
    "tags": []
   },
   "outputs": [
    {
     "data": {
      "application/javascript": [
       "parent.postMessage({\"jupyterEvent\": \"custom.exercise_interaction\", \"data\": {\"outcomeType\": 1, \"valueTowardsCompletion\": 0.2, \"interactionType\": 1, \"questionType\": 2, \"questionId\": \"6_OneTopping\", \"learnToolsVersion\": \"0.3.4\", \"failureMessage\": \"\", \"exceptionClass\": \"\", \"trace\": \"\"}}, \"*\")"
      ],
      "text/plain": [
       "<IPython.core.display.Javascript object>"
      ]
     },
     "metadata": {},
     "output_type": "display_data"
    },
    {
     "data": {
      "text/markdown": [
       "<span style=\"color:#33cc33\">Correct:</span> \n",
       "\n",
       "This condition would be pretty complicated to express using just `and`, `or` and `not`, but using boolean-to-integer conversion gives us this short solution:\n",
       "```python\n",
       "return (int(ketchup) + int(mustard) + int(onion)) == 1\n",
       "```\n",
       "\n",
       "Fun fact: we don't technically need to call `int` on the arguments. Just by doing addition with booleans, Python implicitly does the integer conversion. So we could also write...\n",
       "\n",
       "```python\n",
       "return (ketchup + mustard + onion) == 1\n",
       "```"
      ],
      "text/plain": [
       "Correct: \n",
       "\n",
       "This condition would be pretty complicated to express using just `and`, `or` and `not`, but using boolean-to-integer conversion gives us this short solution:\n",
       "```python\n",
       "return (int(ketchup) + int(mustard) + int(onion)) == 1\n",
       "```\n",
       "\n",
       "Fun fact: we don't technically need to call `int` on the arguments. Just by doing addition with booleans, Python implicitly does the integer conversion. So we could also write...\n",
       "\n",
       "```python\n",
       "return (ketchup + mustard + onion) == 1\n",
       "```"
      ]
     },
     "metadata": {},
     "output_type": "display_data"
    }
   ],
   "source": [
    "def exactly_one_topping(ketchup, mustard, onion):\n",
    "    \"\"\"Return whether the customer wants exactly one of the three available toppings\n",
    "    on their hot dog.\n",
    "    \"\"\"\n",
    "    return (ketchup + mustard + onion) ==1\n",
    "\n",
    "# Check your answer\n",
    "q6.check()"
   ]
  },
  {
   "cell_type": "code",
   "execution_count": 20,
   "id": "b31afd47",
   "metadata": {
    "execution": {
     "iopub.execute_input": "2022-06-27T01:25:28.000049Z",
     "iopub.status.busy": "2022-06-27T01:25:27.999020Z",
     "iopub.status.idle": "2022-06-27T01:25:28.018642Z",
     "shell.execute_reply": "2022-06-27T01:25:28.017657Z"
    },
    "papermill": {
     "duration": 0.03972,
     "end_time": "2022-06-27T01:25:28.021346",
     "exception": false,
     "start_time": "2022-06-27T01:25:27.981626",
     "status": "completed"
    },
    "tags": []
   },
   "outputs": [
    {
     "data": {
      "application/javascript": [
       "parent.postMessage({\"jupyterEvent\": \"custom.exercise_interaction\", \"data\": {\"interactionType\": 2, \"questionType\": 2, \"questionId\": \"6_OneTopping\", \"learnToolsVersion\": \"0.3.4\", \"valueTowardsCompletion\": 0.0, \"failureMessage\": \"\", \"exceptionClass\": \"\", \"trace\": \"\", \"outcomeType\": 4}}, \"*\")"
      ],
      "text/plain": [
       "<IPython.core.display.Javascript object>"
      ]
     },
     "metadata": {},
     "output_type": "display_data"
    },
    {
     "data": {
      "text/markdown": [
       "<span style=\"color:#3366cc\">Hint:</span> You may have already found that `int(True)` is 1, and `int(False)` is 0. Think about what kinds of basic arithmetic operations you might want to perform on `ketchup`, `mustard`, and `onion` after converting them to integers."
      ],
      "text/plain": [
       "Hint: You may have already found that `int(True)` is 1, and `int(False)` is 0. Think about what kinds of basic arithmetic operations you might want to perform on `ketchup`, `mustard`, and `onion` after converting them to integers."
      ]
     },
     "metadata": {},
     "output_type": "display_data"
    },
    {
     "data": {
      "application/javascript": [
       "parent.postMessage({\"jupyterEvent\": \"custom.exercise_interaction\", \"data\": {\"interactionType\": 3, \"questionType\": 2, \"questionId\": \"6_OneTopping\", \"learnToolsVersion\": \"0.3.4\", \"valueTowardsCompletion\": 0.0, \"failureMessage\": \"\", \"exceptionClass\": \"\", \"trace\": \"\", \"outcomeType\": 4}}, \"*\")"
      ],
      "text/plain": [
       "<IPython.core.display.Javascript object>"
      ]
     },
     "metadata": {},
     "output_type": "display_data"
    },
    {
     "data": {
      "text/markdown": [
       "<span style=\"color:#33cc99\">Solution:</span> This condition would be pretty complicated to express using just `and`, `or` and `not`, but using boolean-to-integer conversion gives us this short solution:\n",
       "```python\n",
       "return (int(ketchup) + int(mustard) + int(onion)) == 1\n",
       "```\n",
       "\n",
       "Fun fact: we don't technically need to call `int` on the arguments. Just by doing addition with booleans, Python implicitly does the integer conversion. So we could also write...\n",
       "\n",
       "```python\n",
       "return (ketchup + mustard + onion) == 1\n",
       "```"
      ],
      "text/plain": [
       "Solution: This condition would be pretty complicated to express using just `and`, `or` and `not`, but using boolean-to-integer conversion gives us this short solution:\n",
       "```python\n",
       "return (int(ketchup) + int(mustard) + int(onion)) == 1\n",
       "```\n",
       "\n",
       "Fun fact: we don't technically need to call `int` on the arguments. Just by doing addition with booleans, Python implicitly does the integer conversion. So we could also write...\n",
       "\n",
       "```python\n",
       "return (ketchup + mustard + onion) == 1\n",
       "```"
      ]
     },
     "metadata": {},
     "output_type": "display_data"
    }
   ],
   "source": [
    "q6.hint()\n",
    "q6.solution()"
   ]
  },
  {
   "cell_type": "markdown",
   "id": "8503cb89",
   "metadata": {
    "papermill": {
     "duration": 0.017391,
     "end_time": "2022-06-27T01:25:28.056220",
     "exception": false,
     "start_time": "2022-06-27T01:25:28.038829",
     "status": "completed"
    },
    "tags": []
   },
   "source": [
    "# 7. <span title=\"A bit spicy\" style=\"color: darkgreen \">🌶️</span> (Optional)\n",
    "\n",
    "In this problem we'll be working with a simplified version of [blackjack](https://en.wikipedia.org/wiki/Blackjack) (aka twenty-one). In this version there is one player (who you'll control) and a dealer. Play proceeds as follows:\n",
    "\n",
    "- The player is dealt two face-up cards. The dealer is dealt one face-up card.\n",
    "- The player may ask to be dealt another card ('hit') as many times as they wish. If the sum of their cards exceeds 21, they lose the round immediately.\n",
    "- The dealer then deals additional cards to himself until either:\n",
    "    - the sum of the dealer's cards exceeds 21, in which case the player wins the round\n",
    "    - the sum of the dealer's cards is greater than or equal to 17. If the player's total is greater than the dealer's, the player wins. Otherwise, the dealer wins (even in case of a tie).\n",
    "    \n",
    "When calculating the sum of cards, Jack, Queen, and King count for 10. Aces can count as 1 or 11 (when referring to a player's \"total\" above, we mean the largest total that can be made without exceeding 21. So e.g. A+8 = 19, A+8+8 = 17)\n",
    "\n",
    "For this problem, you'll write a function representing the player's decision-making strategy in this game. We've provided a very unintelligent implementation below:"
   ]
  },
  {
   "cell_type": "code",
   "execution_count": 21,
   "id": "84cfc6b0",
   "metadata": {
    "execution": {
     "iopub.execute_input": "2022-06-27T01:25:28.091446Z",
     "iopub.status.busy": "2022-06-27T01:25:28.090411Z",
     "iopub.status.idle": "2022-06-27T01:25:28.097757Z",
     "shell.execute_reply": "2022-06-27T01:25:28.096544Z"
    },
    "papermill": {
     "duration": 0.027902,
     "end_time": "2022-06-27T01:25:28.100317",
     "exception": false,
     "start_time": "2022-06-27T01:25:28.072415",
     "status": "completed"
    },
    "tags": []
   },
   "outputs": [],
   "source": [
    "def should_hit(dealer_total, player_total, player_low_aces, player_high_aces):\n",
    "    \"\"\"Return True if the player should hit (request another card) given the current game\n",
    "    state, or False if the player should stay.\n",
    "    When calculating a hand's total value, we count aces as \"high\" (with value 11) if doing so\n",
    "    doesn't bring the total above 21, otherwise we count them as low (with value 1). \n",
    "    For example, if the player's hand is {A, A, A, 7}, we will count it as 11 + 1 + 1 + 7,\n",
    "    and therefore set player_total=20, player_low_aces=2, player_high_aces=1.\n",
    "    \"\"\"\n",
    "    return False"
   ]
  },
  {
   "cell_type": "markdown",
   "id": "e28a8a1d",
   "metadata": {
    "papermill": {
     "duration": 0.015332,
     "end_time": "2022-06-27T01:25:28.131336",
     "exception": false,
     "start_time": "2022-06-27T01:25:28.116004",
     "status": "completed"
    },
    "tags": []
   },
   "source": [
    "This very conservative agent *always* sticks with the hand of two cards that they're dealt.\n",
    "\n",
    "We'll be simulating games between your player agent and our own dealer agent by calling your function.\n",
    "\n",
    "Try running the function below to see an example of a simulated game:"
   ]
  },
  {
   "cell_type": "code",
   "execution_count": 22,
   "id": "2af980ab",
   "metadata": {
    "execution": {
     "iopub.execute_input": "2022-06-27T01:25:28.165188Z",
     "iopub.status.busy": "2022-06-27T01:25:28.164268Z",
     "iopub.status.idle": "2022-06-27T01:25:28.172162Z",
     "shell.execute_reply": "2022-06-27T01:25:28.170331Z"
    },
    "papermill": {
     "duration": 0.029748,
     "end_time": "2022-06-27T01:25:28.176708",
     "exception": false,
     "start_time": "2022-06-27T01:25:28.146960",
     "status": "completed"
    },
    "tags": []
   },
   "outputs": [
    {
     "name": "stdout",
     "output_type": "stream",
     "text": [
      "Player starts with Q and 9 (total = 19)\n",
      "Dealer starts with 4\n",
      "\n",
      "__Player's turn__\n",
      "Player stays\n",
      "\n",
      "__Dealer's turn__\n",
      "Dealer hits and receives 2. (total = 6)\n",
      "Dealer hits and receives J. (total = 16)\n",
      "Dealer hits and receives K. (total = 26)\n",
      "Dealer busts! Player wins.\n"
     ]
    }
   ],
   "source": [
    "q7.simulate_one_game()"
   ]
  },
  {
   "cell_type": "markdown",
   "id": "a0936666",
   "metadata": {
    "papermill": {
     "duration": 0.014394,
     "end_time": "2022-06-27T01:25:28.206599",
     "exception": false,
     "start_time": "2022-06-27T01:25:28.192205",
     "status": "completed"
    },
    "tags": []
   },
   "source": [
    "The real test of your agent's mettle is their average win rate over many games. Try calling the function below to simulate 50000 games of blackjack (it may take a couple seconds):"
   ]
  },
  {
   "cell_type": "code",
   "execution_count": 23,
   "id": "eda5e522",
   "metadata": {
    "execution": {
     "iopub.execute_input": "2022-06-27T01:25:28.238000Z",
     "iopub.status.busy": "2022-06-27T01:25:28.237199Z",
     "iopub.status.idle": "2022-06-27T01:25:30.276960Z",
     "shell.execute_reply": "2022-06-27T01:25:30.275517Z"
    },
    "papermill": {
     "duration": 2.058575,
     "end_time": "2022-06-27T01:25:30.279832",
     "exception": false,
     "start_time": "2022-06-27T01:25:28.221257",
     "status": "completed"
    },
    "tags": []
   },
   "outputs": [
    {
     "name": "stdout",
     "output_type": "stream",
     "text": [
      "Player won 19076 out of 50000 games (win rate = 38.2%)\n"
     ]
    }
   ],
   "source": [
    "q7.simulate(n_games=50000)"
   ]
  },
  {
   "cell_type": "markdown",
   "id": "d57f1b71",
   "metadata": {
    "papermill": {
     "duration": 0.014282,
     "end_time": "2022-06-27T01:25:30.309255",
     "exception": false,
     "start_time": "2022-06-27T01:25:30.294973",
     "status": "completed"
    },
    "tags": []
   },
   "source": [
    "Our dumb agent that completely ignores the game state still manages to win shockingly often!\n",
    "\n",
    "Try adding some more smarts to the `should_hit` function and see how it affects the results."
   ]
  },
  {
   "cell_type": "code",
   "execution_count": 24,
   "id": "9aa7a8c9",
   "metadata": {
    "execution": {
     "iopub.execute_input": "2022-06-27T01:25:30.340802Z",
     "iopub.status.busy": "2022-06-27T01:25:30.340029Z",
     "iopub.status.idle": "2022-06-27T01:25:32.373361Z",
     "shell.execute_reply": "2022-06-27T01:25:32.371971Z"
    },
    "papermill": {
     "duration": 2.052138,
     "end_time": "2022-06-27T01:25:32.375934",
     "exception": false,
     "start_time": "2022-06-27T01:25:30.323796",
     "status": "completed"
    },
    "tags": []
   },
   "outputs": [
    {
     "name": "stdout",
     "output_type": "stream",
     "text": [
      "Player won 18957 out of 50000 games (win rate = 37.9%)\n"
     ]
    }
   ],
   "source": [
    "def should_hit(dealer_total, player_total, player_low_aces, player_high_aces):\n",
    "    \"\"\"Return True if the player should hit (request another card) given the current game\n",
    "    state, or False if the player should stay.\n",
    "    When calculating a hand's total value, we count aces as \"high\" (with value 11) if doing so\n",
    "    doesn't bring the total above 21, otherwise we count them as low (with value 1). \n",
    "    For example, if the player's hand is {A, A, A, 7}, we will count it as 11 + 1 + 1 + 7,\n",
    "    and therefore set player_total=20, player_low_aces=2, player_high_aces=1.\n",
    "    \"\"\"\n",
    "    return False\n",
    "\n",
    "q7.simulate(n_games=50000)"
   ]
  },
  {
   "cell_type": "markdown",
   "id": "00d9da79",
   "metadata": {
    "papermill": {
     "duration": 0.015136,
     "end_time": "2022-06-27T01:25:32.406400",
     "exception": false,
     "start_time": "2022-06-27T01:25:32.391264",
     "status": "completed"
    },
    "tags": []
   },
   "source": [
    "# Keep Going\n",
    "\n",
    "Learn about **[lists and tuples](https://www.kaggle.com/colinmorris/lists)** to handle multiple items of data in a systematic way."
   ]
  },
  {
   "cell_type": "markdown",
   "id": "11228d77",
   "metadata": {
    "papermill": {
     "duration": 0.014744,
     "end_time": "2022-06-27T01:25:32.436266",
     "exception": false,
     "start_time": "2022-06-27T01:25:32.421522",
     "status": "completed"
    },
    "tags": []
   },
   "source": [
    "---\n",
    "\n",
    "\n",
    "\n",
    "\n",
    "*Have questions or comments? Visit the [course discussion forum](https://www.kaggle.com/learn/python/discussion) to chat with other learners.*"
   ]
  }
 ],
 "metadata": {
  "kernelspec": {
   "display_name": "Python 3",
   "language": "python",
   "name": "python3"
  },
  "language_info": {
   "codemirror_mode": {
    "name": "ipython",
    "version": 3
   },
   "file_extension": ".py",
   "mimetype": "text/x-python",
   "name": "python",
   "nbconvert_exporter": "python",
   "pygments_lexer": "ipython3",
   "version": "3.7.12"
  },
  "papermill": {
   "default_parameters": {},
   "duration": 16.329176,
   "end_time": "2022-06-27T01:25:33.173081",
   "environment_variables": {},
   "exception": null,
   "input_path": "__notebook__.ipynb",
   "output_path": "__notebook__.ipynb",
   "parameters": {},
   "start_time": "2022-06-27T01:25:16.843905",
   "version": "2.3.4"
  }
 },
 "nbformat": 4,
 "nbformat_minor": 5
}
