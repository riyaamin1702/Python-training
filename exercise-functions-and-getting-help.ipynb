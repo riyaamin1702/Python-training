{
 "cells": [
  {
   "cell_type": "markdown",
   "id": "2ac77ca1",
   "metadata": {
    "papermill": {
     "duration": 0.006891,
     "end_time": "2022-06-27T01:18:23.423118",
     "exception": false,
     "start_time": "2022-06-27T01:18:23.416227",
     "status": "completed"
    },
    "tags": []
   },
   "source": [
    "**This notebook is an exercise in the [Python](https://www.kaggle.com/learn/python) course.  You can reference the tutorial at [this link](https://www.kaggle.com/colinmorris/functions-and-getting-help).**\n",
    "\n",
    "---\n"
   ]
  },
  {
   "cell_type": "markdown",
   "id": "b456aca1",
   "metadata": {
    "papermill": {
     "duration": 0.00557,
     "end_time": "2022-06-27T01:18:23.434627",
     "exception": false,
     "start_time": "2022-06-27T01:18:23.429057",
     "status": "completed"
    },
    "tags": []
   },
   "source": [
    "Functions are powerful. Try writing some yourself.\n",
    "\n",
    "As before, don't forget to run the setup code below before jumping into question 1."
   ]
  },
  {
   "cell_type": "code",
   "execution_count": 1,
   "id": "f1c77e85",
   "metadata": {
    "_kg_hide-input": true,
    "_kg_hide-output": true,
    "execution": {
     "iopub.execute_input": "2022-06-27T01:18:23.448761Z",
     "iopub.status.busy": "2022-06-27T01:18:23.447936Z",
     "iopub.status.idle": "2022-06-27T01:18:23.511424Z",
     "shell.execute_reply": "2022-06-27T01:18:23.509902Z"
    },
    "papermill": {
     "duration": 0.073979,
     "end_time": "2022-06-27T01:18:23.514402",
     "exception": false,
     "start_time": "2022-06-27T01:18:23.440423",
     "status": "completed"
    },
    "tags": []
   },
   "outputs": [
    {
     "name": "stdout",
     "output_type": "stream",
     "text": [
      "Setup complete.\n"
     ]
    }
   ],
   "source": [
    "# SETUP. You don't need to worry for now about what this code does or how it works.\n",
    "from learntools.core import binder; binder.bind(globals())\n",
    "from learntools.python.ex2 import *\n",
    "print('Setup complete.')"
   ]
  },
  {
   "cell_type": "markdown",
   "id": "bc6abfca",
   "metadata": {
    "papermill": {
     "duration": 0.005503,
     "end_time": "2022-06-27T01:18:23.525886",
     "exception": false,
     "start_time": "2022-06-27T01:18:23.520383",
     "status": "completed"
    },
    "tags": []
   },
   "source": [
    "# 1.\n",
    "\n",
    "Complete the body of the following function according to its docstring.\n",
    "\n",
    "HINT: Python has a built-in function `round`."
   ]
  },
  {
   "cell_type": "code",
   "execution_count": 2,
   "id": "5a8ff9fd",
   "metadata": {
    "execution": {
     "iopub.execute_input": "2022-06-27T01:18:23.539453Z",
     "iopub.status.busy": "2022-06-27T01:18:23.539042Z",
     "iopub.status.idle": "2022-06-27T01:18:23.553397Z",
     "shell.execute_reply": "2022-06-27T01:18:23.552054Z"
    },
    "papermill": {
     "duration": 0.023986,
     "end_time": "2022-06-27T01:18:23.555875",
     "exception": false,
     "start_time": "2022-06-27T01:18:23.531889",
     "status": "completed"
    },
    "tags": []
   },
   "outputs": [
    {
     "data": {
      "application/javascript": [
       "parent.postMessage({\"jupyterEvent\": \"custom.exercise_interaction\", \"data\": {\"outcomeType\": 1, \"valueTowardsCompletion\": 0.16666666666666666, \"interactionType\": 1, \"questionType\": 2, \"questionId\": \"1_RoundFunctionProblem\", \"learnToolsVersion\": \"0.3.4\", \"failureMessage\": \"\", \"exceptionClass\": \"\", \"trace\": \"\"}}, \"*\")"
      ],
      "text/plain": [
       "<IPython.core.display.Javascript object>"
      ]
     },
     "metadata": {},
     "output_type": "display_data"
    },
    {
     "data": {
      "text/markdown": [
       "<span style=\"color:#33cc33\">Correct</span>"
      ],
      "text/plain": [
       "Correct"
      ]
     },
     "metadata": {},
     "output_type": "display_data"
    }
   ],
   "source": [
    "def round_to_two_places(num):\n",
    "    \"\"\"Return the given number rounded to two decimal places. \n",
    "    \n",
    "    >>> round_to_two_places(3.14159)\n",
    "    3.14\n",
    "    \"\"\"\n",
    "    \n",
    "    # Replace this body with your own code.\n",
    "    # (\"pass\" is a keyword that does literally nothing. We used it as a placeholder\n",
    "    # because after we begin a code block, Python requires at least one line of code)\n",
    "    return round(num,2)\n",
    "\n",
    "# Check your answer\n",
    "q1.check()"
   ]
  },
  {
   "cell_type": "code",
   "execution_count": 3,
   "id": "97abdcc9",
   "metadata": {
    "execution": {
     "iopub.execute_input": "2022-06-27T01:18:23.570152Z",
     "iopub.status.busy": "2022-06-27T01:18:23.569270Z",
     "iopub.status.idle": "2022-06-27T01:18:23.574912Z",
     "shell.execute_reply": "2022-06-27T01:18:23.573621Z"
    },
    "papermill": {
     "duration": 0.015059,
     "end_time": "2022-06-27T01:18:23.577262",
     "exception": false,
     "start_time": "2022-06-27T01:18:23.562203",
     "status": "completed"
    },
    "tags": []
   },
   "outputs": [],
   "source": [
    "# Uncomment the following for a hint\n",
    "#q1.hint()\n",
    "# Or uncomment the following to peek at the solution\n",
    "#q1.solution()"
   ]
  },
  {
   "cell_type": "markdown",
   "id": "52ce182c",
   "metadata": {
    "papermill": {
     "duration": 0.005812,
     "end_time": "2022-06-27T01:18:23.588821",
     "exception": false,
     "start_time": "2022-06-27T01:18:23.583009",
     "status": "completed"
    },
    "tags": []
   },
   "source": [
    "# 2.\n",
    "The help for `round` says that `ndigits` (the second argument) may be negative.\n",
    "What do you think will happen when it is? Try some examples in the following cell."
   ]
  },
  {
   "cell_type": "code",
   "execution_count": 4,
   "id": "8488c00a",
   "metadata": {
    "execution": {
     "iopub.execute_input": "2022-06-27T01:18:23.603158Z",
     "iopub.status.busy": "2022-06-27T01:18:23.602775Z",
     "iopub.status.idle": "2022-06-27T01:18:23.610824Z",
     "shell.execute_reply": "2022-06-27T01:18:23.609356Z"
    },
    "papermill": {
     "duration": 0.019137,
     "end_time": "2022-06-27T01:18:23.613638",
     "exception": false,
     "start_time": "2022-06-27T01:18:23.594501",
     "status": "completed"
    },
    "tags": []
   },
   "outputs": [
    {
     "data": {
      "text/plain": [
       "0"
      ]
     },
     "execution_count": 4,
     "metadata": {},
     "output_type": "execute_result"
    }
   ],
   "source": [
    "# Put your test code here\n",
    "\n",
    "round(8, -2)"
   ]
  },
  {
   "cell_type": "markdown",
   "id": "3f309500",
   "metadata": {
    "papermill": {
     "duration": 0.006592,
     "end_time": "2022-06-27T01:18:23.626527",
     "exception": false,
     "start_time": "2022-06-27T01:18:23.619935",
     "status": "completed"
    },
    "tags": []
   },
   "source": [
    "Can you think of a case where this would be useful?  Once you're ready, run the code cell below to see the answer and to receive credit for completing the problem."
   ]
  },
  {
   "cell_type": "code",
   "execution_count": 5,
   "id": "7fb987ac",
   "metadata": {
    "execution": {
     "iopub.execute_input": "2022-06-27T01:18:23.643579Z",
     "iopub.status.busy": "2022-06-27T01:18:23.643111Z",
     "iopub.status.idle": "2022-06-27T01:18:23.652708Z",
     "shell.execute_reply": "2022-06-27T01:18:23.651695Z"
    },
    "papermill": {
     "duration": 0.020879,
     "end_time": "2022-06-27T01:18:23.654929",
     "exception": false,
     "start_time": "2022-06-27T01:18:23.634050",
     "status": "completed"
    },
    "tags": []
   },
   "outputs": [
    {
     "data": {
      "application/javascript": [
       "parent.postMessage({\"jupyterEvent\": \"custom.exercise_interaction\", \"data\": {\"interactionType\": 3, \"questionType\": 4, \"questionId\": \"2_RoundNdigitsProblem\", \"learnToolsVersion\": \"0.3.4\", \"valueTowardsCompletion\": 0.0, \"failureMessage\": \"\", \"exceptionClass\": \"\", \"trace\": \"\", \"outcomeType\": 4}}, \"*\")"
      ],
      "text/plain": [
       "<IPython.core.display.Javascript object>"
      ]
     },
     "metadata": {},
     "output_type": "display_data"
    },
    {
     "data": {
      "text/markdown": [
       "<span style=\"color:#33cc99\">Solution:</span> As you've seen, `ndigits=-1` rounds to the nearest 10, `ndigits=-2` rounds to the nearest 100 and so on. Where might this be useful? Suppose we're dealing with large numbers:\n",
       "\n",
       "> The area of Finland is 338,424 km²  \n",
       "> The area of Greenland is 2,166,086 km²\n",
       "\n",
       "We probably don't care whether it's really 338,424, or 338,425, or 338,177. All those digits of accuracy are just distracting. We can chop them off by calling `round()` with `ndigits=-3`:\n",
       "\n",
       "> The area of Finland is 338,000 km²  \n",
       "> The area of Greenland is 2,166,000 km²\n",
       "\n",
       "(We'll talk about how we would get the commas later when we talk about string formatting :))\n"
      ],
      "text/plain": [
       "Solution: As you've seen, `ndigits=-1` rounds to the nearest 10, `ndigits=-2` rounds to the nearest 100 and so on. Where might this be useful? Suppose we're dealing with large numbers:\n",
       "\n",
       "> The area of Finland is 338,424 km²  \n",
       "> The area of Greenland is 2,166,086 km²\n",
       "\n",
       "We probably don't care whether it's really 338,424, or 338,425, or 338,177. All those digits of accuracy are just distracting. We can chop them off by calling `round()` with `ndigits=-3`:\n",
       "\n",
       "> The area of Finland is 338,000 km²  \n",
       "> The area of Greenland is 2,166,000 km²\n",
       "\n",
       "(We'll talk about how we would get the commas later when we talk about string formatting :))"
      ]
     },
     "metadata": {},
     "output_type": "display_data"
    }
   ],
   "source": [
    "# Check your answer (Run this code cell to receive credit!)\n",
    "q2.solution()"
   ]
  },
  {
   "cell_type": "markdown",
   "id": "c5693c63",
   "metadata": {
    "papermill": {
     "duration": 0.00588,
     "end_time": "2022-06-27T01:18:23.667185",
     "exception": false,
     "start_time": "2022-06-27T01:18:23.661305",
     "status": "completed"
    },
    "tags": []
   },
   "source": [
    "# 3.\n",
    "\n",
    "In the previous exercise, the candy-sharing friends Alice, Bob and Carol tried to split candies evenly. For the sake of their friendship, any candies left over would be smashed. For example, if they collectively bring home 91 candies, they'll take 30 each and smash 1.\n",
    "\n",
    "Below is a simple function that will calculate the number of candies to smash for *any* number of total candies.\n",
    "\n",
    "Modify it so that it optionally takes a second argument representing the number of friends the candies are being split between. If no second argument is provided, it should assume 3 friends, as before.\n",
    "\n",
    "Update the docstring to reflect this new behaviour."
   ]
  },
  {
   "cell_type": "code",
   "execution_count": 6,
   "id": "8a5089fa",
   "metadata": {
    "execution": {
     "iopub.execute_input": "2022-06-27T01:18:23.681723Z",
     "iopub.status.busy": "2022-06-27T01:18:23.681149Z",
     "iopub.status.idle": "2022-06-27T01:18:23.691272Z",
     "shell.execute_reply": "2022-06-27T01:18:23.690055Z"
    },
    "papermill": {
     "duration": 0.020091,
     "end_time": "2022-06-27T01:18:23.693441",
     "exception": false,
     "start_time": "2022-06-27T01:18:23.673350",
     "status": "completed"
    },
    "tags": []
   },
   "outputs": [
    {
     "data": {
      "application/javascript": [
       "parent.postMessage({\"jupyterEvent\": \"custom.exercise_interaction\", \"data\": {\"outcomeType\": 1, \"valueTowardsCompletion\": 0.16666666666666666, \"interactionType\": 1, \"questionType\": 2, \"questionId\": \"3_CandySmashingFunctionProblem\", \"learnToolsVersion\": \"0.3.4\", \"failureMessage\": \"\", \"exceptionClass\": \"\", \"trace\": \"\"}}, \"*\")"
      ],
      "text/plain": [
       "<IPython.core.display.Javascript object>"
      ]
     },
     "metadata": {},
     "output_type": "display_data"
    },
    {
     "data": {
      "text/markdown": [
       "<span style=\"color:#33cc33\">Correct</span>"
      ],
      "text/plain": [
       "Correct"
      ]
     },
     "metadata": {},
     "output_type": "display_data"
    }
   ],
   "source": [
    "def to_smash(total_candies,n=3):\n",
    "    \"\"\"Return the number of leftover candies that must be smashed after distributing\n",
    "    the given number of candies evenly between 3 friends.\n",
    "    \n",
    "    >>> to_smash(91)\n",
    "    1\n",
    "    \"\"\"\n",
    "    return total_candies % n\n",
    "\n",
    "# Check your answer\n",
    "q3.check()"
   ]
  },
  {
   "cell_type": "code",
   "execution_count": 7,
   "id": "f062f059",
   "metadata": {
    "execution": {
     "iopub.execute_input": "2022-06-27T01:18:23.707872Z",
     "iopub.status.busy": "2022-06-27T01:18:23.707452Z",
     "iopub.status.idle": "2022-06-27T01:18:23.712446Z",
     "shell.execute_reply": "2022-06-27T01:18:23.711355Z"
    },
    "papermill": {
     "duration": 0.01459,
     "end_time": "2022-06-27T01:18:23.714514",
     "exception": false,
     "start_time": "2022-06-27T01:18:23.699924",
     "status": "completed"
    },
    "tags": []
   },
   "outputs": [],
   "source": [
    "#q3.hint()"
   ]
  },
  {
   "cell_type": "code",
   "execution_count": 8,
   "id": "7352aced",
   "metadata": {
    "execution": {
     "iopub.execute_input": "2022-06-27T01:18:23.729406Z",
     "iopub.status.busy": "2022-06-27T01:18:23.728943Z",
     "iopub.status.idle": "2022-06-27T01:18:23.733922Z",
     "shell.execute_reply": "2022-06-27T01:18:23.732747Z"
    },
    "papermill": {
     "duration": 0.015366,
     "end_time": "2022-06-27T01:18:23.736321",
     "exception": false,
     "start_time": "2022-06-27T01:18:23.720955",
     "status": "completed"
    },
    "tags": []
   },
   "outputs": [],
   "source": [
    "#q3.solution()"
   ]
  },
  {
   "cell_type": "markdown",
   "id": "8beedba6",
   "metadata": {
    "papermill": {
     "duration": 0.006326,
     "end_time": "2022-06-27T01:18:23.749431",
     "exception": false,
     "start_time": "2022-06-27T01:18:23.743105",
     "status": "completed"
    },
    "tags": []
   },
   "source": [
    "# 4. (Optional)\n",
    "\n",
    "It may not be fun, but reading and understanding error messages will be an important part of your Python career.\n",
    "\n",
    "Each code cell below contains some commented buggy code. For each cell...\n",
    "\n",
    "1. Read the code and predict what you think will happen when it's run.\n",
    "2. Then uncomment the code and run it to see what happens. (**Tip**: In the kernel editor, you can highlight several lines and press `ctrl`+`/` to toggle commenting.)\n",
    "3. Fix the code (so that it accomplishes its intended purpose without throwing an exception)\n",
    "\n",
    "<!-- TODO: should this be autochecked? Delta is probably pretty small. -->"
   ]
  },
  {
   "cell_type": "code",
   "execution_count": 9,
   "id": "c950547b",
   "metadata": {
    "execution": {
     "iopub.execute_input": "2022-06-27T01:18:23.764849Z",
     "iopub.status.busy": "2022-06-27T01:18:23.764275Z",
     "iopub.status.idle": "2022-06-27T01:18:23.771720Z",
     "shell.execute_reply": "2022-06-27T01:18:23.770733Z"
    },
    "papermill": {
     "duration": 0.018404,
     "end_time": "2022-06-27T01:18:23.774331",
     "exception": false,
     "start_time": "2022-06-27T01:18:23.755927",
     "status": "completed"
    },
    "tags": []
   },
   "outputs": [
    {
     "data": {
      "text/plain": [
       "10.0"
      ]
     },
     "execution_count": 9,
     "metadata": {},
     "output_type": "execute_result"
    }
   ],
   "source": [
    "def ruound_to_two_places(num):\n",
    "    return round(num,2)\n",
    "\n",
    "ruound_to_two_places(9.9999)"
   ]
  },
  {
   "cell_type": "code",
   "execution_count": 10,
   "id": "0de21aa2",
   "metadata": {
    "execution": {
     "iopub.execute_input": "2022-06-27T01:18:23.791212Z",
     "iopub.status.busy": "2022-06-27T01:18:23.790518Z",
     "iopub.status.idle": "2022-06-27T01:18:23.799163Z",
     "shell.execute_reply": "2022-06-27T01:18:23.798317Z"
    },
    "papermill": {
     "duration": 0.019236,
     "end_time": "2022-06-27T01:18:23.801371",
     "exception": false,
     "start_time": "2022-06-27T01:18:23.782135",
     "status": "completed"
    },
    "tags": []
   },
   "outputs": [
    {
     "data": {
      "text/plain": [
       "5"
      ]
     },
     "execution_count": 10,
     "metadata": {},
     "output_type": "execute_result"
    }
   ],
   "source": [
    "x = -10\n",
    "y = 5\n",
    "\n",
    "def smallest_abs(x,y):\n",
    "    a = abs(x)\n",
    "    b = abs(y)\n",
    "    return min(a,b)\n",
    "\n",
    "# # Which of the two variables above has the smallest absolute value?\n",
    "smallest_abs(x,y)"
   ]
  },
  {
   "cell_type": "code",
   "execution_count": 11,
   "id": "0b5fc245",
   "metadata": {
    "execution": {
     "iopub.execute_input": "2022-06-27T01:18:23.817643Z",
     "iopub.status.busy": "2022-06-27T01:18:23.816779Z",
     "iopub.status.idle": "2022-06-27T01:18:23.823179Z",
     "shell.execute_reply": "2022-06-27T01:18:23.822051Z"
    },
    "papermill": {
     "duration": 0.017079,
     "end_time": "2022-06-27T01:18:23.825556",
     "exception": false,
     "start_time": "2022-06-27T01:18:23.808477",
     "status": "completed"
    },
    "tags": []
   },
   "outputs": [
    {
     "name": "stdout",
     "output_type": "stream",
     "text": [
      "5\n"
     ]
    }
   ],
   "source": [
    "def f(x):\n",
    "    y = abs(x)\n",
    "    return y\n",
    "print(f(5))"
   ]
  },
  {
   "cell_type": "markdown",
   "id": "7bdde117",
   "metadata": {
    "papermill": {
     "duration": 0.007008,
     "end_time": "2022-06-27T01:18:23.840146",
     "exception": false,
     "start_time": "2022-06-27T01:18:23.833138",
     "status": "completed"
    },
    "tags": []
   },
   "source": [
    "# Keep Going\n",
    "\n",
    "Nice job with the code. Next up, you'll learn about *conditionals*, which you'll need to **[write interesting programs](https://www.kaggle.com/colinmorris/booleans-and-conditionals)**. "
   ]
  },
  {
   "cell_type": "markdown",
   "id": "cee0a79a",
   "metadata": {
    "papermill": {
     "duration": 0.009217,
     "end_time": "2022-06-27T01:18:23.857255",
     "exception": false,
     "start_time": "2022-06-27T01:18:23.848038",
     "status": "completed"
    },
    "tags": []
   },
   "source": [
    "---\n",
    "\n",
    "\n",
    "\n",
    "\n",
    "*Have questions or comments? Visit the [course discussion forum](https://www.kaggle.com/learn/python/discussion) to chat with other learners.*"
   ]
  }
 ],
 "metadata": {
  "kernelspec": {
   "display_name": "Python 3",
   "language": "python",
   "name": "python3"
  },
  "language_info": {
   "codemirror_mode": {
    "name": "ipython",
    "version": 3
   },
   "file_extension": ".py",
   "mimetype": "text/x-python",
   "name": "python",
   "nbconvert_exporter": "python",
   "pygments_lexer": "ipython3",
   "version": "3.7.12"
  },
  "papermill": {
   "default_parameters": {},
   "duration": 11.584401,
   "end_time": "2022-06-27T01:18:24.587876",
   "environment_variables": {},
   "exception": null,
   "input_path": "__notebook__.ipynb",
   "output_path": "__notebook__.ipynb",
   "parameters": {},
   "start_time": "2022-06-27T01:18:13.003475",
   "version": "2.3.4"
  }
 },
 "nbformat": 4,
 "nbformat_minor": 5
}
