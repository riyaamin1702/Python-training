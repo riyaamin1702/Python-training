{
 "cells": [
  {
   "cell_type": "markdown",
   "id": "31818379",
   "metadata": {
    "papermill": {
     "duration": 0.005051,
     "end_time": "2022-06-27T01:45:35.799865",
     "exception": false,
     "start_time": "2022-06-27T01:45:35.794814",
     "status": "completed"
    },
    "tags": []
   },
   "source": [
    "**This notebook is an exercise in the [Python](https://www.kaggle.com/learn/python) course.  You can reference the tutorial at [this link](https://www.kaggle.com/colinmorris/lists).**\n",
    "\n",
    "---\n"
   ]
  },
  {
   "cell_type": "markdown",
   "id": "2ecd82c5",
   "metadata": {
    "papermill": {
     "duration": 0.003852,
     "end_time": "2022-06-27T01:45:35.808180",
     "exception": false,
     "start_time": "2022-06-27T01:45:35.804328",
     "status": "completed"
    },
    "tags": []
   },
   "source": [
    "Things get more interesting with lists. You'll apply your new knowledge to solve the questions below. Remember to run the following cell first."
   ]
  },
  {
   "cell_type": "code",
   "execution_count": 1,
   "id": "7a10fdc1",
   "metadata": {
    "execution": {
     "iopub.execute_input": "2022-06-27T01:45:35.818242Z",
     "iopub.status.busy": "2022-06-27T01:45:35.817811Z",
     "iopub.status.idle": "2022-06-27T01:45:35.874987Z",
     "shell.execute_reply": "2022-06-27T01:45:35.873665Z"
    },
    "papermill": {
     "duration": 0.066426,
     "end_time": "2022-06-27T01:45:35.878753",
     "exception": false,
     "start_time": "2022-06-27T01:45:35.812327",
     "status": "completed"
    },
    "tags": []
   },
   "outputs": [
    {
     "name": "stdout",
     "output_type": "stream",
     "text": [
      "Setup complete.\n"
     ]
    }
   ],
   "source": [
    "from learntools.core import binder; binder.bind(globals())\n",
    "from learntools.python.ex4 import *\n",
    "print('Setup complete.')"
   ]
  },
  {
   "cell_type": "markdown",
   "id": "c2375d6a",
   "metadata": {
    "papermill": {
     "duration": 0.00404,
     "end_time": "2022-06-27T01:45:35.887197",
     "exception": false,
     "start_time": "2022-06-27T01:45:35.883157",
     "status": "completed"
    },
    "tags": []
   },
   "source": [
    "# 1.\n",
    "\n",
    "Complete the function below according to its docstring."
   ]
  },
  {
   "cell_type": "code",
   "execution_count": 2,
   "id": "ea31eece",
   "metadata": {
    "execution": {
     "iopub.execute_input": "2022-06-27T01:45:35.897126Z",
     "iopub.status.busy": "2022-06-27T01:45:35.896735Z",
     "iopub.status.idle": "2022-06-27T01:45:35.908318Z",
     "shell.execute_reply": "2022-06-27T01:45:35.907017Z"
    },
    "papermill": {
     "duration": 0.019452,
     "end_time": "2022-06-27T01:45:35.910710",
     "exception": false,
     "start_time": "2022-06-27T01:45:35.891258",
     "status": "completed"
    },
    "tags": []
   },
   "outputs": [
    {
     "data": {
      "application/javascript": [
       "parent.postMessage({\"jupyterEvent\": \"custom.exercise_interaction\", \"data\": {\"outcomeType\": 1, \"valueTowardsCompletion\": 0.2, \"interactionType\": 1, \"questionType\": 2, \"questionId\": \"1_SelectSecondItem\", \"learnToolsVersion\": \"0.3.4\", \"failureMessage\": \"\", \"exceptionClass\": \"\", \"trace\": \"\"}}, \"*\")"
      ],
      "text/plain": [
       "<IPython.core.display.Javascript object>"
      ]
     },
     "metadata": {},
     "output_type": "display_data"
    },
    {
     "data": {
      "text/markdown": [
       "<span style=\"color:#33cc33\">Correct</span>"
      ],
      "text/plain": [
       "Correct"
      ]
     },
     "metadata": {},
     "output_type": "display_data"
    }
   ],
   "source": [
    "def select_second(L):\n",
    "    \"\"\"Return the second element of the given list. If the list has no second\n",
    "    element, return None.\n",
    "    \"\"\"\n",
    "    if len(L) <2:\n",
    "        return None\n",
    "    return L[1]\n",
    "\n",
    "# Check your answer\n",
    "q1.check()"
   ]
  },
  {
   "cell_type": "code",
   "execution_count": 3,
   "id": "12a34dd6",
   "metadata": {
    "execution": {
     "iopub.execute_input": "2022-06-27T01:45:35.921936Z",
     "iopub.status.busy": "2022-06-27T01:45:35.921169Z",
     "iopub.status.idle": "2022-06-27T01:45:35.924897Z",
     "shell.execute_reply": "2022-06-27T01:45:35.924078Z"
    },
    "papermill": {
     "duration": 0.011679,
     "end_time": "2022-06-27T01:45:35.926805",
     "exception": false,
     "start_time": "2022-06-27T01:45:35.915126",
     "status": "completed"
    },
    "tags": []
   },
   "outputs": [],
   "source": [
    "#q1.hint()\n",
    "#q1.solution()"
   ]
  },
  {
   "cell_type": "markdown",
   "id": "77b9f7ad",
   "metadata": {
    "papermill": {
     "duration": 0.004185,
     "end_time": "2022-06-27T01:45:35.935400",
     "exception": false,
     "start_time": "2022-06-27T01:45:35.931215",
     "status": "completed"
    },
    "tags": []
   },
   "source": [
    "# 2.\n",
    "\n",
    "You are analyzing sports teams.  Members of each team are stored in a list. The Coach is the first name in the list, the captain is the second name in the list, and other players are listed after that. \n",
    "These lists are stored in another list, which starts with the best team and proceeds through the list to the worst team last.  Complete the function below to select the **captain** of the worst team."
   ]
  },
  {
   "cell_type": "code",
   "execution_count": 4,
   "id": "54f9cd98",
   "metadata": {
    "execution": {
     "iopub.execute_input": "2022-06-27T01:45:35.946253Z",
     "iopub.status.busy": "2022-06-27T01:45:35.945294Z",
     "iopub.status.idle": "2022-06-27T01:45:35.954153Z",
     "shell.execute_reply": "2022-06-27T01:45:35.952971Z"
    },
    "papermill": {
     "duration": 0.01685,
     "end_time": "2022-06-27T01:45:35.956649",
     "exception": false,
     "start_time": "2022-06-27T01:45:35.939799",
     "status": "completed"
    },
    "tags": []
   },
   "outputs": [
    {
     "data": {
      "application/javascript": [
       "parent.postMessage({\"jupyterEvent\": \"custom.exercise_interaction\", \"data\": {\"outcomeType\": 1, \"valueTowardsCompletion\": 0.2, \"interactionType\": 1, \"questionType\": 2, \"questionId\": \"2_LosingTeamCaptain\", \"learnToolsVersion\": \"0.3.4\", \"failureMessage\": \"\", \"exceptionClass\": \"\", \"trace\": \"\"}}, \"*\")"
      ],
      "text/plain": [
       "<IPython.core.display.Javascript object>"
      ]
     },
     "metadata": {},
     "output_type": "display_data"
    },
    {
     "data": {
      "text/markdown": [
       "<span style=\"color:#33cc33\">Correct</span>"
      ],
      "text/plain": [
       "Correct"
      ]
     },
     "metadata": {},
     "output_type": "display_data"
    }
   ],
   "source": [
    "def losing_team_captain(teams):\n",
    "    \"\"\"Given a list of teams, where each team is a list of names, return the 2nd player (captain)\n",
    "    from the last listed team\n",
    "    \"\"\"\n",
    "    return teams[-1][1]\n",
    "\n",
    "# Check your answer\n",
    "q2.check()"
   ]
  },
  {
   "cell_type": "code",
   "execution_count": 5,
   "id": "f1c53f60",
   "metadata": {
    "execution": {
     "iopub.execute_input": "2022-06-27T01:45:35.967268Z",
     "iopub.status.busy": "2022-06-27T01:45:35.966903Z",
     "iopub.status.idle": "2022-06-27T01:45:35.971448Z",
     "shell.execute_reply": "2022-06-27T01:45:35.970346Z"
    },
    "papermill": {
     "duration": 0.012489,
     "end_time": "2022-06-27T01:45:35.973716",
     "exception": false,
     "start_time": "2022-06-27T01:45:35.961227",
     "status": "completed"
    },
    "tags": []
   },
   "outputs": [],
   "source": [
    "#q2.hint()\n",
    "#q2.solution()"
   ]
  },
  {
   "cell_type": "markdown",
   "id": "8a91bcad",
   "metadata": {
    "papermill": {
     "duration": 0.004178,
     "end_time": "2022-06-27T01:45:35.982417",
     "exception": false,
     "start_time": "2022-06-27T01:45:35.978239",
     "status": "completed"
    },
    "tags": []
   },
   "source": [
    "# 3.\n",
    "\n",
    "The next iteration of Mario Kart will feature an extra-infuriating new item, the *Purple Shell*. When used, it warps the last place racer into first place and the first place racer into last place. Complete the function below to implement the Purple Shell's effect."
   ]
  },
  {
   "cell_type": "code",
   "execution_count": 6,
   "id": "54a61c53",
   "metadata": {
    "execution": {
     "iopub.execute_input": "2022-06-27T01:45:35.993101Z",
     "iopub.status.busy": "2022-06-27T01:45:35.992385Z",
     "iopub.status.idle": "2022-06-27T01:45:36.001763Z",
     "shell.execute_reply": "2022-06-27T01:45:36.000564Z"
    },
    "papermill": {
     "duration": 0.016829,
     "end_time": "2022-06-27T01:45:36.003614",
     "exception": false,
     "start_time": "2022-06-27T01:45:35.986785",
     "status": "completed"
    },
    "tags": []
   },
   "outputs": [
    {
     "data": {
      "application/javascript": [
       "parent.postMessage({\"jupyterEvent\": \"custom.exercise_interaction\", \"data\": {\"outcomeType\": 1, \"valueTowardsCompletion\": 0.2, \"interactionType\": 1, \"questionType\": 2, \"questionId\": \"3_PurpleShell\", \"learnToolsVersion\": \"0.3.4\", \"failureMessage\": \"\", \"exceptionClass\": \"\", \"trace\": \"\"}}, \"*\")"
      ],
      "text/plain": [
       "<IPython.core.display.Javascript object>"
      ]
     },
     "metadata": {},
     "output_type": "display_data"
    },
    {
     "data": {
      "text/markdown": [
       "<span style=\"color:#33cc33\">Correct</span>"
      ],
      "text/plain": [
       "Correct"
      ]
     },
     "metadata": {},
     "output_type": "display_data"
    }
   ],
   "source": [
    "def purple_shell(racers):\n",
    "    \"\"\"Given a list of racers, set the first place racer (at the front of the list) to last\n",
    "    place and vice versa.\n",
    "    \n",
    "    >>> r = [\"Mario\", \"Bowser\", \"Luigi\"]\n",
    "    >>> purple_shell(r)\n",
    "    >>> r\n",
    "    [\"Luigi\", \"Bowser\", \"Mario\"]\n",
    "    \"\"\"\n",
    "    x = racers[0]\n",
    "    racers[0] = racers[-1]\n",
    "    racers[-1] = x\n",
    "    \n",
    "\n",
    "# Check your answer\n",
    "q3.check()"
   ]
  },
  {
   "cell_type": "code",
   "execution_count": 7,
   "id": "6796d235",
   "metadata": {
    "execution": {
     "iopub.execute_input": "2022-06-27T01:45:36.014879Z",
     "iopub.status.busy": "2022-06-27T01:45:36.014515Z",
     "iopub.status.idle": "2022-06-27T01:45:36.018154Z",
     "shell.execute_reply": "2022-06-27T01:45:36.017300Z"
    },
    "papermill": {
     "duration": 0.011529,
     "end_time": "2022-06-27T01:45:36.020111",
     "exception": false,
     "start_time": "2022-06-27T01:45:36.008582",
     "status": "completed"
    },
    "tags": []
   },
   "outputs": [],
   "source": [
    "#q3.hint()\n",
    "#q3.solution()"
   ]
  },
  {
   "cell_type": "markdown",
   "id": "17410b5b",
   "metadata": {
    "papermill": {
     "duration": 0.004531,
     "end_time": "2022-06-27T01:45:36.029447",
     "exception": false,
     "start_time": "2022-06-27T01:45:36.024916",
     "status": "completed"
    },
    "tags": []
   },
   "source": [
    "# 4.\n",
    "\n",
    "What are the lengths of the following lists? Fill in the variable `lengths` with your predictions. (Try to make a prediction for each list *without* just calling `len()` on it.)"
   ]
  },
  {
   "cell_type": "code",
   "execution_count": 8,
   "id": "cc2de63f",
   "metadata": {
    "execution": {
     "iopub.execute_input": "2022-06-27T01:45:36.041741Z",
     "iopub.status.busy": "2022-06-27T01:45:36.041315Z",
     "iopub.status.idle": "2022-06-27T01:45:36.051321Z",
     "shell.execute_reply": "2022-06-27T01:45:36.050104Z"
    },
    "papermill": {
     "duration": 0.018789,
     "end_time": "2022-06-27T01:45:36.053710",
     "exception": false,
     "start_time": "2022-06-27T01:45:36.034921",
     "status": "completed"
    },
    "tags": []
   },
   "outputs": [
    {
     "data": {
      "application/javascript": [
       "parent.postMessage({\"jupyterEvent\": \"custom.exercise_interaction\", \"data\": {\"outcomeType\": 1, \"valueTowardsCompletion\": 0.2, \"interactionType\": 1, \"questionType\": 1, \"questionId\": \"4_UnderstandLen\", \"learnToolsVersion\": \"0.3.4\", \"failureMessage\": \"\", \"exceptionClass\": \"\", \"trace\": \"\"}}, \"*\")"
      ],
      "text/plain": [
       "<IPython.core.display.Javascript object>"
      ]
     },
     "metadata": {},
     "output_type": "display_data"
    },
    {
     "data": {
      "text/markdown": [
       "<span style=\"color:#33cc33\">Correct:</span> \n",
       "\n",
       "\n",
       "- a: There are three items in this list. Nothing tricky yet.\n",
       "- b: The list `[2, 3]` counts as a single item. It has one item before it. So we have 2 items in the list\n",
       "- c: The empty list has 0 items\n",
       "- d: The expression is the same as the list `[2, 3]`, which has length 2."
      ],
      "text/plain": [
       "Correct: \n",
       "\n",
       "\n",
       "- a: There are three items in this list. Nothing tricky yet.\n",
       "- b: The list `[2, 3]` counts as a single item. It has one item before it. So we have 2 items in the list\n",
       "- c: The empty list has 0 items\n",
       "- d: The expression is the same as the list `[2, 3]`, which has length 2."
      ]
     },
     "metadata": {},
     "output_type": "display_data"
    }
   ],
   "source": [
    "a = [1, 2, 3]\n",
    "b = [1, [2, 3]]\n",
    "c = []\n",
    "d = [1, 2, 3][1:]\n",
    "\n",
    "# Put your predictions in the list below. Lengths should contain 4 numbers, the\n",
    "# first being the length of a, the second being the length of b and so on.\n",
    "lengths = [3,2,0,2]\n",
    "\n",
    "# Check your answer\n",
    "q4.check()"
   ]
  },
  {
   "cell_type": "code",
   "execution_count": 9,
   "id": "f82341ca",
   "metadata": {
    "execution": {
     "iopub.execute_input": "2022-06-27T01:45:36.065639Z",
     "iopub.status.busy": "2022-06-27T01:45:36.065218Z",
     "iopub.status.idle": "2022-06-27T01:45:36.070071Z",
     "shell.execute_reply": "2022-06-27T01:45:36.069002Z"
    },
    "papermill": {
     "duration": 0.013312,
     "end_time": "2022-06-27T01:45:36.072362",
     "exception": false,
     "start_time": "2022-06-27T01:45:36.059050",
     "status": "completed"
    },
    "tags": []
   },
   "outputs": [],
   "source": [
    "# line below provides some explanation\n",
    "#q4.solution()"
   ]
  },
  {
   "cell_type": "markdown",
   "id": "8c1da178",
   "metadata": {
    "papermill": {
     "duration": 0.004752,
     "end_time": "2022-06-27T01:45:36.082143",
     "exception": false,
     "start_time": "2022-06-27T01:45:36.077391",
     "status": "completed"
    },
    "tags": []
   },
   "source": [
    "# 5. <span title=\"A bit spicy\" style=\"color: darkgreen \">🌶️</span>\n",
    "\n",
    "We're using lists to record people who attended our party and what order they arrived in. For example, the following list represents a party with 7 guests, in which Adela showed up first and Ford was the last to arrive:\n",
    "\n",
    "    party_attendees = ['Adela', 'Fleda', 'Owen', 'May', 'Mona', 'Gilbert', 'Ford']\n",
    "\n",
    "A guest is considered 'fashionably late' if they arrived after at least half of the party's guests. However, they must not be the very last guest (that's taking it too far). In the above example, Mona and Gilbert are the only guests who were fashionably late.\n",
    "\n",
    "Complete the function below which takes a list of party attendees as well as a person, and tells us whether that person is fashionably late."
   ]
  },
  {
   "cell_type": "code",
   "execution_count": 10,
   "id": "51521c5d",
   "metadata": {
    "execution": {
     "iopub.execute_input": "2022-06-27T01:45:36.095041Z",
     "iopub.status.busy": "2022-06-27T01:45:36.094666Z",
     "iopub.status.idle": "2022-06-27T01:45:36.103037Z",
     "shell.execute_reply": "2022-06-27T01:45:36.101883Z"
    },
    "papermill": {
     "duration": 0.017244,
     "end_time": "2022-06-27T01:45:36.105360",
     "exception": false,
     "start_time": "2022-06-27T01:45:36.088116",
     "status": "completed"
    },
    "tags": []
   },
   "outputs": [
    {
     "data": {
      "application/javascript": [
       "parent.postMessage({\"jupyterEvent\": \"custom.exercise_interaction\", \"data\": {\"outcomeType\": 4, \"interactionType\": 1, \"questionType\": 2, \"questionId\": \"5_FashionablyLate\", \"learnToolsVersion\": \"0.3.4\", \"valueTowardsCompletion\": 0.0, \"failureMessage\": \"\", \"exceptionClass\": \"\", \"trace\": \"\"}}, \"*\")"
      ],
      "text/plain": [
       "<IPython.core.display.Javascript object>"
      ]
     },
     "metadata": {},
     "output_type": "display_data"
    },
    {
     "data": {
      "text/markdown": [
       "<span style=\"color:#ccaa33\">Check:</span> When you've updated the starter code, `check()` will tell you whether your code is correct. "
      ],
      "text/plain": [
       "Check: When you've updated the starter code, `check()` will tell you whether your code is correct. "
      ]
     },
     "metadata": {},
     "output_type": "display_data"
    }
   ],
   "source": [
    "def fashionably_late(arrivals, name):\n",
    "    \"\"\"Given an ordered list of arrivals to the party and a name, return whether the guest with that\n",
    "    name was fashionably late.\n",
    "    \"\"\"\n",
    "    pass\n",
    "\n",
    "# Check your answer\n",
    "q5.check()"
   ]
  },
  {
   "cell_type": "code",
   "execution_count": 11,
   "id": "877c17f8",
   "metadata": {
    "execution": {
     "iopub.execute_input": "2022-06-27T01:45:36.117952Z",
     "iopub.status.busy": "2022-06-27T01:45:36.117540Z",
     "iopub.status.idle": "2022-06-27T01:45:36.125201Z",
     "shell.execute_reply": "2022-06-27T01:45:36.124151Z"
    },
    "papermill": {
     "duration": 0.016888,
     "end_time": "2022-06-27T01:45:36.127580",
     "exception": false,
     "start_time": "2022-06-27T01:45:36.110692",
     "status": "completed"
    },
    "tags": []
   },
   "outputs": [
    {
     "data": {
      "application/javascript": [
       "parent.postMessage({\"jupyterEvent\": \"custom.exercise_interaction\", \"data\": {\"interactionType\": 3, \"questionType\": 2, \"questionId\": \"5_FashionablyLate\", \"learnToolsVersion\": \"0.3.4\", \"valueTowardsCompletion\": 0.0, \"failureMessage\": \"\", \"exceptionClass\": \"\", \"trace\": \"\", \"outcomeType\": 4}}, \"*\")"
      ],
      "text/plain": [
       "<IPython.core.display.Javascript object>"
      ]
     },
     "metadata": {},
     "output_type": "display_data"
    },
    {
     "data": {
      "text/markdown": [
       "<span style=\"color:#33cc99\">Solution:</span> \n",
       "```python\n",
       "def fashionably_late(arrivals, name):\n",
       "    order = arrivals.index(name)\n",
       "    return order >= len(arrivals) / 2 and order != len(arrivals) - 1\n",
       "```"
      ],
      "text/plain": [
       "Solution: \n",
       "```python\n",
       "def fashionably_late(arrivals, name):\n",
       "    order = arrivals.index(name)\n",
       "    return order >= len(arrivals) / 2 and order != len(arrivals) - 1\n",
       "```"
      ]
     },
     "metadata": {},
     "output_type": "display_data"
    }
   ],
   "source": [
    "#q5.hint()\n",
    "q5.solution()"
   ]
  },
  {
   "cell_type": "markdown",
   "id": "5951b00b",
   "metadata": {
    "papermill": {
     "duration": 0.005156,
     "end_time": "2022-06-27T01:45:36.138212",
     "exception": false,
     "start_time": "2022-06-27T01:45:36.133056",
     "status": "completed"
    },
    "tags": []
   },
   "source": [
    "# Keep Going\n",
    "\n",
    "That's it for lists and tuples! Now you have the baseline knowledge to **[learn about loops](https://www.kaggle.com/colinmorris/loops-and-list-comprehensions)**, which is where lists and tuples get really interesting. "
   ]
  },
  {
   "cell_type": "markdown",
   "id": "a6e93a8c",
   "metadata": {
    "papermill": {
     "duration": 0.004957,
     "end_time": "2022-06-27T01:45:36.148446",
     "exception": false,
     "start_time": "2022-06-27T01:45:36.143489",
     "status": "completed"
    },
    "tags": []
   },
   "source": [
    "---\n",
    "\n",
    "\n",
    "\n",
    "\n",
    "*Have questions or comments? Visit the [course discussion forum](https://www.kaggle.com/learn/python/discussion) to chat with other learners.*"
   ]
  }
 ],
 "metadata": {
  "kernelspec": {
   "display_name": "Python 3",
   "language": "python",
   "name": "python3"
  },
  "language_info": {
   "codemirror_mode": {
    "name": "ipython",
    "version": 3
   },
   "file_extension": ".py",
   "mimetype": "text/x-python",
   "name": "python",
   "nbconvert_exporter": "python",
   "pygments_lexer": "ipython3",
   "version": "3.7.12"
  },
  "papermill": {
   "default_parameters": {},
   "duration": 9.697117,
   "end_time": "2022-06-27T01:45:36.774922",
   "environment_variables": {},
   "exception": null,
   "input_path": "__notebook__.ipynb",
   "output_path": "__notebook__.ipynb",
   "parameters": {},
   "start_time": "2022-06-27T01:45:27.077805",
   "version": "2.3.4"
  }
 },
 "nbformat": 4,
 "nbformat_minor": 5
}
