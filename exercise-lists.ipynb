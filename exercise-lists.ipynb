{
 "cells": [
  {
   "cell_type": "markdown",
   "id": "f57762b1",
   "metadata": {
    "papermill": {
     "duration": 0.004803,
     "end_time": "2022-06-27T01:51:13.598983",
     "exception": false,
     "start_time": "2022-06-27T01:51:13.594180",
     "status": "completed"
    },
    "tags": []
   },
   "source": [
    "**This notebook is an exercise in the [Python](https://www.kaggle.com/learn/python) course.  You can reference the tutorial at [this link](https://www.kaggle.com/colinmorris/lists).**\n",
    "\n",
    "---\n"
   ]
  },
  {
   "cell_type": "markdown",
   "id": "cf155878",
   "metadata": {
    "papermill": {
     "duration": 0.003632,
     "end_time": "2022-06-27T01:51:13.606680",
     "exception": false,
     "start_time": "2022-06-27T01:51:13.603048",
     "status": "completed"
    },
    "tags": []
   },
   "source": [
    "Things get more interesting with lists. You'll apply your new knowledge to solve the questions below. Remember to run the following cell first."
   ]
  },
  {
   "cell_type": "code",
   "execution_count": 1,
   "id": "8b9d2410",
   "metadata": {
    "execution": {
     "iopub.execute_input": "2022-06-27T01:51:13.616470Z",
     "iopub.status.busy": "2022-06-27T01:51:13.615637Z",
     "iopub.status.idle": "2022-06-27T01:51:13.677253Z",
     "shell.execute_reply": "2022-06-27T01:51:13.676256Z"
    },
    "papermill": {
     "duration": 0.069117,
     "end_time": "2022-06-27T01:51:13.679617",
     "exception": false,
     "start_time": "2022-06-27T01:51:13.610500",
     "status": "completed"
    },
    "tags": []
   },
   "outputs": [
    {
     "name": "stdout",
     "output_type": "stream",
     "text": [
      "Setup complete.\n"
     ]
    }
   ],
   "source": [
    "from learntools.core import binder; binder.bind(globals())\n",
    "from learntools.python.ex4 import *\n",
    "print('Setup complete.')"
   ]
  },
  {
   "cell_type": "markdown",
   "id": "84c3b300",
   "metadata": {
    "papermill": {
     "duration": 0.006042,
     "end_time": "2022-06-27T01:51:13.692809",
     "exception": false,
     "start_time": "2022-06-27T01:51:13.686767",
     "status": "completed"
    },
    "tags": []
   },
   "source": [
    "# 1.\n",
    "\n",
    "Complete the function below according to its docstring."
   ]
  },
  {
   "cell_type": "code",
   "execution_count": 2,
   "id": "4f82d5bf",
   "metadata": {
    "execution": {
     "iopub.execute_input": "2022-06-27T01:51:13.708514Z",
     "iopub.status.busy": "2022-06-27T01:51:13.708029Z",
     "iopub.status.idle": "2022-06-27T01:51:13.718438Z",
     "shell.execute_reply": "2022-06-27T01:51:13.717599Z"
    },
    "papermill": {
     "duration": 0.020687,
     "end_time": "2022-06-27T01:51:13.720684",
     "exception": false,
     "start_time": "2022-06-27T01:51:13.699997",
     "status": "completed"
    },
    "tags": []
   },
   "outputs": [
    {
     "data": {
      "application/javascript": [
       "parent.postMessage({\"jupyterEvent\": \"custom.exercise_interaction\", \"data\": {\"outcomeType\": 1, \"valueTowardsCompletion\": 0.2, \"interactionType\": 1, \"questionType\": 2, \"questionId\": \"1_SelectSecondItem\", \"learnToolsVersion\": \"0.3.4\", \"failureMessage\": \"\", \"exceptionClass\": \"\", \"trace\": \"\"}}, \"*\")"
      ],
      "text/plain": [
       "<IPython.core.display.Javascript object>"
      ]
     },
     "metadata": {},
     "output_type": "display_data"
    },
    {
     "data": {
      "text/markdown": [
       "<span style=\"color:#33cc33\">Correct</span>"
      ],
      "text/plain": [
       "Correct"
      ]
     },
     "metadata": {},
     "output_type": "display_data"
    }
   ],
   "source": [
    "def select_second(L):\n",
    "    \"\"\"Return the second element of the given list. If the list has no second\n",
    "    element, return None.\n",
    "    \"\"\"\n",
    "    if len(L) <2:\n",
    "        return None\n",
    "    return L[1]\n",
    "\n",
    "# Check your answer\n",
    "q1.check()"
   ]
  },
  {
   "cell_type": "code",
   "execution_count": 3,
   "id": "66d61f4c",
   "metadata": {
    "execution": {
     "iopub.execute_input": "2022-06-27T01:51:13.736456Z",
     "iopub.status.busy": "2022-06-27T01:51:13.736051Z",
     "iopub.status.idle": "2022-06-27T01:51:13.739864Z",
     "shell.execute_reply": "2022-06-27T01:51:13.738954Z"
    },
    "papermill": {
     "duration": 0.014124,
     "end_time": "2022-06-27T01:51:13.741771",
     "exception": false,
     "start_time": "2022-06-27T01:51:13.727647",
     "status": "completed"
    },
    "tags": []
   },
   "outputs": [],
   "source": [
    "#q1.hint()\n",
    "#q1.solution()"
   ]
  },
  {
   "cell_type": "markdown",
   "id": "22a3ffc1",
   "metadata": {
    "papermill": {
     "duration": 0.004003,
     "end_time": "2022-06-27T01:51:13.750766",
     "exception": false,
     "start_time": "2022-06-27T01:51:13.746763",
     "status": "completed"
    },
    "tags": []
   },
   "source": [
    "# 2.\n",
    "\n",
    "You are analyzing sports teams.  Members of each team are stored in a list. The Coach is the first name in the list, the captain is the second name in the list, and other players are listed after that. \n",
    "These lists are stored in another list, which starts with the best team and proceeds through the list to the worst team last.  Complete the function below to select the **captain** of the worst team."
   ]
  },
  {
   "cell_type": "code",
   "execution_count": 4,
   "id": "dc0c9938",
   "metadata": {
    "execution": {
     "iopub.execute_input": "2022-06-27T01:51:13.760726Z",
     "iopub.status.busy": "2022-06-27T01:51:13.760325Z",
     "iopub.status.idle": "2022-06-27T01:51:13.769690Z",
     "shell.execute_reply": "2022-06-27T01:51:13.768417Z"
    },
    "papermill": {
     "duration": 0.016861,
     "end_time": "2022-06-27T01:51:13.771712",
     "exception": false,
     "start_time": "2022-06-27T01:51:13.754851",
     "status": "completed"
    },
    "tags": []
   },
   "outputs": [
    {
     "data": {
      "application/javascript": [
       "parent.postMessage({\"jupyterEvent\": \"custom.exercise_interaction\", \"data\": {\"outcomeType\": 1, \"valueTowardsCompletion\": 0.2, \"interactionType\": 1, \"questionType\": 2, \"questionId\": \"2_LosingTeamCaptain\", \"learnToolsVersion\": \"0.3.4\", \"failureMessage\": \"\", \"exceptionClass\": \"\", \"trace\": \"\"}}, \"*\")"
      ],
      "text/plain": [
       "<IPython.core.display.Javascript object>"
      ]
     },
     "metadata": {},
     "output_type": "display_data"
    },
    {
     "data": {
      "text/markdown": [
       "<span style=\"color:#33cc33\">Correct</span>"
      ],
      "text/plain": [
       "Correct"
      ]
     },
     "metadata": {},
     "output_type": "display_data"
    }
   ],
   "source": [
    "def losing_team_captain(teams):\n",
    "    \"\"\"Given a list of teams, where each team is a list of names, return the 2nd player (captain)\n",
    "    from the last listed team\n",
    "    \"\"\"\n",
    "    return teams[-1][1]\n",
    "\n",
    "# Check your answer\n",
    "q2.check()"
   ]
  },
  {
   "cell_type": "code",
   "execution_count": 5,
   "id": "939015a8",
   "metadata": {
    "execution": {
     "iopub.execute_input": "2022-06-27T01:51:13.788214Z",
     "iopub.status.busy": "2022-06-27T01:51:13.787580Z",
     "iopub.status.idle": "2022-06-27T01:51:13.791856Z",
     "shell.execute_reply": "2022-06-27T01:51:13.790575Z"
    },
    "papermill": {
     "duration": 0.015347,
     "end_time": "2022-06-27T01:51:13.794325",
     "exception": false,
     "start_time": "2022-06-27T01:51:13.778978",
     "status": "completed"
    },
    "tags": []
   },
   "outputs": [],
   "source": [
    "#q2.hint()\n",
    "#q2.solution()"
   ]
  },
  {
   "cell_type": "markdown",
   "id": "019a6a14",
   "metadata": {
    "papermill": {
     "duration": 0.006783,
     "end_time": "2022-06-27T01:51:13.808672",
     "exception": false,
     "start_time": "2022-06-27T01:51:13.801889",
     "status": "completed"
    },
    "tags": []
   },
   "source": [
    "# 3.\n",
    "\n",
    "The next iteration of Mario Kart will feature an extra-infuriating new item, the *Purple Shell*. When used, it warps the last place racer into first place and the first place racer into last place. Complete the function below to implement the Purple Shell's effect."
   ]
  },
  {
   "cell_type": "code",
   "execution_count": 6,
   "id": "71e7a961",
   "metadata": {
    "execution": {
     "iopub.execute_input": "2022-06-27T01:51:13.825654Z",
     "iopub.status.busy": "2022-06-27T01:51:13.824987Z",
     "iopub.status.idle": "2022-06-27T01:51:13.832721Z",
     "shell.execute_reply": "2022-06-27T01:51:13.831695Z"
    },
    "papermill": {
     "duration": 0.018617,
     "end_time": "2022-06-27T01:51:13.834946",
     "exception": false,
     "start_time": "2022-06-27T01:51:13.816329",
     "status": "completed"
    },
    "tags": []
   },
   "outputs": [
    {
     "data": {
      "application/javascript": [
       "parent.postMessage({\"jupyterEvent\": \"custom.exercise_interaction\", \"data\": {\"outcomeType\": 1, \"valueTowardsCompletion\": 0.2, \"interactionType\": 1, \"questionType\": 2, \"questionId\": \"3_PurpleShell\", \"learnToolsVersion\": \"0.3.4\", \"failureMessage\": \"\", \"exceptionClass\": \"\", \"trace\": \"\"}}, \"*\")"
      ],
      "text/plain": [
       "<IPython.core.display.Javascript object>"
      ]
     },
     "metadata": {},
     "output_type": "display_data"
    },
    {
     "data": {
      "text/markdown": [
       "<span style=\"color:#33cc33\">Correct</span>"
      ],
      "text/plain": [
       "Correct"
      ]
     },
     "metadata": {},
     "output_type": "display_data"
    }
   ],
   "source": [
    "def purple_shell(racers):\n",
    "    \"\"\"Given a list of racers, set the first place racer (at the front of the list) to last\n",
    "    place and vice versa.\n",
    "    \n",
    "    >>> r = [\"Mario\", \"Bowser\", \"Luigi\"]\n",
    "    >>> purple_shell(r)\n",
    "    >>> r\n",
    "    [\"Luigi\", \"Bowser\", \"Mario\"]\n",
    "    \"\"\"\n",
    "    x = racers[0]\n",
    "    racers[0] = racers[-1]\n",
    "    racers[-1] = x\n",
    "    \n",
    "\n",
    "# Check your answer\n",
    "q3.check()"
   ]
  },
  {
   "cell_type": "code",
   "execution_count": 7,
   "id": "020d0641",
   "metadata": {
    "execution": {
     "iopub.execute_input": "2022-06-27T01:51:13.846821Z",
     "iopub.status.busy": "2022-06-27T01:51:13.846243Z",
     "iopub.status.idle": "2022-06-27T01:51:13.851239Z",
     "shell.execute_reply": "2022-06-27T01:51:13.850422Z"
    },
    "papermill": {
     "duration": 0.013121,
     "end_time": "2022-06-27T01:51:13.852994",
     "exception": false,
     "start_time": "2022-06-27T01:51:13.839873",
     "status": "completed"
    },
    "tags": []
   },
   "outputs": [],
   "source": [
    "#q3.hint()\n",
    "#q3.solution()"
   ]
  },
  {
   "cell_type": "markdown",
   "id": "00415ee6",
   "metadata": {
    "papermill": {
     "duration": 0.004224,
     "end_time": "2022-06-27T01:51:13.861837",
     "exception": false,
     "start_time": "2022-06-27T01:51:13.857613",
     "status": "completed"
    },
    "tags": []
   },
   "source": [
    "# 4.\n",
    "\n",
    "What are the lengths of the following lists? Fill in the variable `lengths` with your predictions. (Try to make a prediction for each list *without* just calling `len()` on it.)"
   ]
  },
  {
   "cell_type": "code",
   "execution_count": 8,
   "id": "1b667730",
   "metadata": {
    "execution": {
     "iopub.execute_input": "2022-06-27T01:51:13.872764Z",
     "iopub.status.busy": "2022-06-27T01:51:13.872217Z",
     "iopub.status.idle": "2022-06-27T01:51:13.882895Z",
     "shell.execute_reply": "2022-06-27T01:51:13.881765Z"
    },
    "papermill": {
     "duration": 0.01861,
     "end_time": "2022-06-27T01:51:13.884870",
     "exception": false,
     "start_time": "2022-06-27T01:51:13.866260",
     "status": "completed"
    },
    "tags": []
   },
   "outputs": [
    {
     "data": {
      "application/javascript": [
       "parent.postMessage({\"jupyterEvent\": \"custom.exercise_interaction\", \"data\": {\"outcomeType\": 1, \"valueTowardsCompletion\": 0.2, \"interactionType\": 1, \"questionType\": 1, \"questionId\": \"4_UnderstandLen\", \"learnToolsVersion\": \"0.3.4\", \"failureMessage\": \"\", \"exceptionClass\": \"\", \"trace\": \"\"}}, \"*\")"
      ],
      "text/plain": [
       "<IPython.core.display.Javascript object>"
      ]
     },
     "metadata": {},
     "output_type": "display_data"
    },
    {
     "data": {
      "text/markdown": [
       "<span style=\"color:#33cc33\">Correct:</span> \n",
       "\n",
       "\n",
       "- a: There are three items in this list. Nothing tricky yet.\n",
       "- b: The list `[2, 3]` counts as a single item. It has one item before it. So we have 2 items in the list\n",
       "- c: The empty list has 0 items\n",
       "- d: The expression is the same as the list `[2, 3]`, which has length 2."
      ],
      "text/plain": [
       "Correct: \n",
       "\n",
       "\n",
       "- a: There are three items in this list. Nothing tricky yet.\n",
       "- b: The list `[2, 3]` counts as a single item. It has one item before it. So we have 2 items in the list\n",
       "- c: The empty list has 0 items\n",
       "- d: The expression is the same as the list `[2, 3]`, which has length 2."
      ]
     },
     "metadata": {},
     "output_type": "display_data"
    }
   ],
   "source": [
    "a = [1, 2, 3]\n",
    "b = [1, [2, 3]]\n",
    "c = []\n",
    "d = [1, 2, 3][1:]\n",
    "\n",
    "# Put your predictions in the list below. Lengths should contain 4 numbers, the\n",
    "# first being the length of a, the second being the length of b and so on.\n",
    "lengths = [3,2,0,2]\n",
    "\n",
    "# Check your answer\n",
    "q4.check()"
   ]
  },
  {
   "cell_type": "code",
   "execution_count": 9,
   "id": "a9a3c049",
   "metadata": {
    "execution": {
     "iopub.execute_input": "2022-06-27T01:51:13.902942Z",
     "iopub.status.busy": "2022-06-27T01:51:13.901806Z",
     "iopub.status.idle": "2022-06-27T01:51:13.907178Z",
     "shell.execute_reply": "2022-06-27T01:51:13.905696Z"
    },
    "papermill": {
     "duration": 0.017053,
     "end_time": "2022-06-27T01:51:13.909766",
     "exception": false,
     "start_time": "2022-06-27T01:51:13.892713",
     "status": "completed"
    },
    "tags": []
   },
   "outputs": [],
   "source": [
    "# line below provides some explanation\n",
    "#q4.solution()"
   ]
  },
  {
   "cell_type": "markdown",
   "id": "c6803f63",
   "metadata": {
    "papermill": {
     "duration": 0.007907,
     "end_time": "2022-06-27T01:51:13.925563",
     "exception": false,
     "start_time": "2022-06-27T01:51:13.917656",
     "status": "completed"
    },
    "tags": []
   },
   "source": [
    "# 5. <span title=\"A bit spicy\" style=\"color: darkgreen \">🌶️</span>\n",
    "\n",
    "We're using lists to record people who attended our party and what order they arrived in. For example, the following list represents a party with 7 guests, in which Adela showed up first and Ford was the last to arrive:\n",
    "\n",
    "    party_attendees = ['Adela', 'Fleda', 'Owen', 'May', 'Mona', 'Gilbert', 'Ford']\n",
    "\n",
    "A guest is considered 'fashionably late' if they arrived after at least half of the party's guests. However, they must not be the very last guest (that's taking it too far). In the above example, Mona and Gilbert are the only guests who were fashionably late.\n",
    "\n",
    "Complete the function below which takes a list of party attendees as well as a person, and tells us whether that person is fashionably late."
   ]
  },
  {
   "cell_type": "code",
   "execution_count": 10,
   "id": "888dbc54",
   "metadata": {
    "execution": {
     "iopub.execute_input": "2022-06-27T01:51:13.943220Z",
     "iopub.status.busy": "2022-06-27T01:51:13.941966Z",
     "iopub.status.idle": "2022-06-27T01:51:13.953185Z",
     "shell.execute_reply": "2022-06-27T01:51:13.952286Z"
    },
    "papermill": {
     "duration": 0.022132,
     "end_time": "2022-06-27T01:51:13.955468",
     "exception": false,
     "start_time": "2022-06-27T01:51:13.933336",
     "status": "completed"
    },
    "tags": []
   },
   "outputs": [
    {
     "data": {
      "application/javascript": [
       "parent.postMessage({\"jupyterEvent\": \"custom.exercise_interaction\", \"data\": {\"outcomeType\": 1, \"valueTowardsCompletion\": 0.2, \"interactionType\": 1, \"questionType\": 2, \"questionId\": \"5_FashionablyLate\", \"learnToolsVersion\": \"0.3.4\", \"failureMessage\": \"\", \"exceptionClass\": \"\", \"trace\": \"\"}}, \"*\")"
      ],
      "text/plain": [
       "<IPython.core.display.Javascript object>"
      ]
     },
     "metadata": {},
     "output_type": "display_data"
    },
    {
     "data": {
      "text/markdown": [
       "<span style=\"color:#33cc33\">Correct</span>"
      ],
      "text/plain": [
       "Correct"
      ]
     },
     "metadata": {},
     "output_type": "display_data"
    }
   ],
   "source": [
    "def fashionably_late(arrivals, name):\n",
    "    \"\"\"Given an ordered list of arrivals to the party and a name, return whether the guest with that\n",
    "    name was fashionably late.\n",
    "    \"\"\"\n",
    "    order = arrivals.index(name)\n",
    "    return order >= len(arrivals) / 2 and order != len(arrivals) - 1\n",
    "\n",
    "# Check your answer\n",
    "q5.check()"
   ]
  },
  {
   "cell_type": "code",
   "execution_count": 11,
   "id": "b2554b30",
   "metadata": {
    "execution": {
     "iopub.execute_input": "2022-06-27T01:51:13.973745Z",
     "iopub.status.busy": "2022-06-27T01:51:13.972560Z",
     "iopub.status.idle": "2022-06-27T01:51:13.981242Z",
     "shell.execute_reply": "2022-06-27T01:51:13.980421Z"
    },
    "papermill": {
     "duration": 0.019838,
     "end_time": "2022-06-27T01:51:13.983315",
     "exception": false,
     "start_time": "2022-06-27T01:51:13.963477",
     "status": "completed"
    },
    "tags": []
   },
   "outputs": [
    {
     "data": {
      "application/javascript": [
       "parent.postMessage({\"jupyterEvent\": \"custom.exercise_interaction\", \"data\": {\"interactionType\": 3, \"questionType\": 2, \"questionId\": \"5_FashionablyLate\", \"learnToolsVersion\": \"0.3.4\", \"valueTowardsCompletion\": 0.0, \"failureMessage\": \"\", \"exceptionClass\": \"\", \"trace\": \"\", \"outcomeType\": 4}}, \"*\")"
      ],
      "text/plain": [
       "<IPython.core.display.Javascript object>"
      ]
     },
     "metadata": {},
     "output_type": "display_data"
    },
    {
     "data": {
      "text/markdown": [
       "<span style=\"color:#33cc99\">Solution:</span> \n",
       "```python\n",
       "def fashionably_late(arrivals, name):\n",
       "    order = arrivals.index(name)\n",
       "    return order >= len(arrivals) / 2 and order != len(arrivals) - 1\n",
       "```"
      ],
      "text/plain": [
       "Solution: \n",
       "```python\n",
       "def fashionably_late(arrivals, name):\n",
       "    order = arrivals.index(name)\n",
       "    return order >= len(arrivals) / 2 and order != len(arrivals) - 1\n",
       "```"
      ]
     },
     "metadata": {},
     "output_type": "display_data"
    }
   ],
   "source": [
    "#q5.hint()\n",
    "q5.solution()"
   ]
  },
  {
   "cell_type": "markdown",
   "id": "b3eb068d",
   "metadata": {
    "papermill": {
     "duration": 0.009178,
     "end_time": "2022-06-27T01:51:14.001163",
     "exception": false,
     "start_time": "2022-06-27T01:51:13.991985",
     "status": "completed"
    },
    "tags": []
   },
   "source": [
    "# Keep Going\n",
    "\n",
    "That's it for lists and tuples! Now you have the baseline knowledge to **[learn about loops](https://www.kaggle.com/colinmorris/loops-and-list-comprehensions)**, which is where lists and tuples get really interesting. "
   ]
  },
  {
   "cell_type": "markdown",
   "id": "d2ef5cab",
   "metadata": {
    "papermill": {
     "duration": 0.008182,
     "end_time": "2022-06-27T01:51:14.017919",
     "exception": false,
     "start_time": "2022-06-27T01:51:14.009737",
     "status": "completed"
    },
    "tags": []
   },
   "source": [
    "---\n",
    "\n",
    "\n",
    "\n",
    "\n",
    "*Have questions or comments? Visit the [course discussion forum](https://www.kaggle.com/learn/python/discussion) to chat with other learners.*"
   ]
  }
 ],
 "metadata": {
  "kernelspec": {
   "display_name": "Python 3",
   "language": "python",
   "name": "python3"
  },
  "language_info": {
   "codemirror_mode": {
    "name": "ipython",
    "version": 3
   },
   "file_extension": ".py",
   "mimetype": "text/x-python",
   "name": "python",
   "nbconvert_exporter": "python",
   "pygments_lexer": "ipython3",
   "version": "3.7.12"
  },
  "papermill": {
   "default_parameters": {},
   "duration": 12.399085,
   "end_time": "2022-06-27T01:51:14.947302",
   "environment_variables": {},
   "exception": null,
   "input_path": "__notebook__.ipynb",
   "output_path": "__notebook__.ipynb",
   "parameters": {},
   "start_time": "2022-06-27T01:51:02.548217",
   "version": "2.3.4"
  }
 },
 "nbformat": 4,
 "nbformat_minor": 5
}
